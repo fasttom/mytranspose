{
 "cells": [
  {
   "cell_type": "code",
   "execution_count": 1,
   "metadata": {
    "collapsed": true,
    "ExecuteTime": {
     "start_time": "2023-04-02T21:07:49.718935Z",
     "end_time": "2023-04-02T21:07:49.850816Z"
    }
   },
   "outputs": [],
   "source": [
    "from py3_mytranspose.mytranspose import *"
   ]
  },
  {
   "cell_type": "code",
   "execution_count": 2,
   "outputs": [],
   "source": [
    "import pandas as pd\n",
    "import numpy as np"
   ],
   "metadata": {
    "collapsed": false,
    "ExecuteTime": {
     "start_time": "2023-04-02T21:07:49.852317Z",
     "end_time": "2023-04-02T21:07:49.855221Z"
    }
   }
  },
  {
   "cell_type": "code",
   "execution_count": 3,
   "outputs": [],
   "source": [
    "def compare(x,y):\n",
    "    try:\n",
    "        same = (np.isnan(x) & np.isnan(y)) | (x == y)\n",
    "    except:\n",
    "        same = (x==y)\n",
    "    all_same = np.alltrue(same)\n",
    "    return all_same"
   ],
   "metadata": {
    "collapsed": false,
    "ExecuteTime": {
     "start_time": "2023-04-02T21:07:49.855559Z",
     "end_time": "2023-04-02T21:07:49.882942Z"
    }
   }
  },
  {
   "cell_type": "code",
   "execution_count": 4,
   "outputs": [],
   "source": [
    "# testing unit\n",
    "def test_mytranspose(x):\n",
    "    mytp = mytranspose(x)\n",
    "    tp = np.transpose(x)\n",
    "    success = compare(mytp, tp)\n",
    "    if success:\n",
    "        print(\"mytraspose successfully transpose \")\n",
    "        print(x)\n",
    "        print(\"into\")\n",
    "        print(mytp)\n",
    "        print()\n",
    "    else:\n",
    "        print(\"falied to transpose\")\n",
    "        print(x)\n",
    "        print(tp)\n",
    "        print(\"should have been obtained. but\")\n",
    "        print(mytp)\n",
    "        print(\"was obtained\")\n",
    "        print(\"\")\n",
    "    return success\n"
   ],
   "metadata": {
    "collapsed": false,
    "ExecuteTime": {
     "start_time": "2023-04-02T21:07:49.880329Z",
     "end_time": "2023-04-02T21:07:49.901577Z"
    }
   }
  },
  {
   "cell_type": "code",
   "execution_count": 5,
   "outputs": [
    {
     "data": {
      "text/plain": "[]"
     },
     "execution_count": 5,
     "metadata": {},
     "output_type": "execute_result"
    }
   ],
   "source": [
    "dim([])"
   ],
   "metadata": {
    "collapsed": false,
    "ExecuteTime": {
     "start_time": "2023-04-02T21:07:49.903556Z",
     "end_time": "2023-04-02T21:07:49.947246Z"
    }
   }
  },
  {
   "cell_type": "code",
   "execution_count": 6,
   "outputs": [],
   "source": [
    "# dataset null\n",
    "null_1 = None # null scalar\n",
    "null_2 = [] # empty list\n",
    "null_3 = np.array([]) # empty array"
   ],
   "metadata": {
    "collapsed": false,
    "ExecuteTime": {
     "start_time": "2023-04-02T21:07:49.946797Z",
     "end_time": "2023-04-02T21:07:49.947413Z"
    }
   }
  },
  {
   "cell_type": "code",
   "execution_count": 7,
   "outputs": [
    {
     "name": "stdout",
     "output_type": "stream",
     "text": [
      "testing if null is converted successfully\n",
      "mytraspose successfully transpose \n",
      "None\n",
      "into\n",
      "None\n",
      "\n",
      "mytraspose successfully transpose \n",
      "[]\n",
      "into\n",
      "[]\n",
      "\n",
      "mytraspose successfully transpose \n",
      "[]\n",
      "into\n",
      "[]\n",
      "\n",
      "function mytranspose can transpose null\n"
     ]
    }
   ],
   "source": [
    "# testing null case\n",
    "print(\"testing if null is converted successfully\")\n",
    "successed_all = True\n",
    "for x in [null_1,null_2,null_3]:\n",
    "    successed = test_mytranspose(x)\n",
    "    successed_all = successed_all & successed\n",
    "if successed_all:\n",
    "    print(\"function mytranspose can transpose null\")\n"
   ],
   "metadata": {
    "collapsed": false,
    "ExecuteTime": {
     "start_time": "2023-04-02T21:07:49.946837Z",
     "end_time": "2023-04-02T21:07:49.947593Z"
    }
   }
  },
  {
   "cell_type": "code",
   "execution_count": 8,
   "outputs": [],
   "source": [
    "# dataset 0d\n",
    "scalar_numeric = 1234\n",
    "scalar_string = \"string\"\n",
    "scalar_nan = np.nan\n",
    "scalar_inf = np.inf"
   ],
   "metadata": {
    "collapsed": false,
    "ExecuteTime": {
     "start_time": "2023-04-02T21:07:49.946892Z",
     "end_time": "2023-04-02T21:07:50.013459Z"
    }
   }
  },
  {
   "cell_type": "code",
   "execution_count": 9,
   "outputs": [
    {
     "name": "stdout",
     "output_type": "stream",
     "text": [
      "testing if scalar is converted successfully\n",
      "mytraspose successfully transpose \n",
      "1234\n",
      "into\n",
      "1234\n",
      "\n",
      "mytraspose successfully transpose \n",
      "string\n",
      "into\n",
      "string\n",
      "\n",
      "mytraspose successfully transpose \n",
      "nan\n",
      "into\n",
      "nan\n",
      "\n",
      "mytraspose successfully transpose \n",
      "inf\n",
      "into\n",
      "inf\n",
      "\n",
      "function mytranspose can transpose vector\n"
     ]
    }
   ],
   "source": [
    "# testing 0d\n",
    "# testing scalar case\n",
    "print(\"testing if scalar is converted successfully\")\n",
    "successed_all = True\n",
    "for x in [scalar_numeric, scalar_string, scalar_nan, scalar_inf]:\n",
    "    successed = test_mytranspose(x)\n",
    "    successed_all = successed_all & successed\n",
    "if successed_all:\n",
    "    print(\"function mytranspose can transpose vector\")"
   ],
   "metadata": {
    "collapsed": false,
    "ExecuteTime": {
     "start_time": "2023-04-02T21:07:49.994743Z",
     "end_time": "2023-04-02T21:07:50.020348Z"
    }
   }
  },
  {
   "cell_type": "code",
   "execution_count": 10,
   "outputs": [],
   "source": [
    "#dataset vector\n",
    "vector_1 = [1,2,3,4] # list of number\n",
    "vector_2 = [\"this\", \"is\", \"a\", \"apple\"] #list of str\n",
    "vector_3 = np.array([1,2,3,4]) # array of number\n",
    "vector_4 = [True, True, False, False]"
   ],
   "metadata": {
    "collapsed": false,
    "ExecuteTime": {
     "start_time": "2023-04-02T21:07:49.994799Z",
     "end_time": "2023-04-02T21:07:50.020522Z"
    }
   }
  },
  {
   "cell_type": "code",
   "execution_count": 11,
   "outputs": [
    {
     "name": "stdout",
     "output_type": "stream",
     "text": [
      "testing if vector is converted successfully\n",
      "mytraspose successfully transpose \n",
      "[1, 2, 3, 4]\n",
      "into\n",
      "[1, 2, 3, 4]\n",
      "\n",
      "mytraspose successfully transpose \n",
      "['this', 'is', 'a', 'apple']\n",
      "into\n",
      "['this', 'is', 'a', 'apple']\n",
      "\n",
      "mytraspose successfully transpose \n",
      "[1 2 3 4]\n",
      "into\n",
      "[1 2 3 4]\n",
      "\n",
      "mytraspose successfully transpose \n",
      "[True, True, False, False]\n",
      "into\n",
      "[True, True, False, False]\n",
      "\n",
      "function mytranspose can transpose scalar\n"
     ]
    }
   ],
   "source": [
    "# testing 1d\n",
    "# testing vector case\n",
    "print(\"testing if vector is converted successfully\")\n",
    "successed_all = True\n",
    "for x in [vector_1, vector_2, vector_3, vector_4]:\n",
    "    successed = test_mytranspose(x)\n",
    "successed_all = successed_all & successed\n",
    "if successed_all:\n",
    "    print(\"function mytranspose can transpose vector\")"
   ],
   "metadata": {
    "collapsed": false,
    "ExecuteTime": {
     "start_time": "2023-04-02T21:07:49.994836Z",
     "end_time": "2023-04-02T21:07:50.020730Z"
    }
   }
  }
 ],
 "metadata": {
  "kernelspec": {
   "display_name": "Python 3",
   "language": "python",
   "name": "python3"
  },
  "language_info": {
   "codemirror_mode": {
    "name": "ipython",
    "version": 2
   },
   "file_extension": ".py",
   "mimetype": "text/x-python",
   "name": "python",
   "nbconvert_exporter": "python",
   "pygments_lexer": "ipython2",
   "version": "2.7.6"
  }
 },
 "nbformat": 4,
 "nbformat_minor": 0
}
