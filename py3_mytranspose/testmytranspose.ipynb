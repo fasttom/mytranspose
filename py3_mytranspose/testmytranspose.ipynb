{
 "cells": [
  {
   "cell_type": "code",
   "execution_count": 49,
   "outputs": [],
   "source": [
    "from mytranspose import *"
   ],
   "metadata": {
    "collapsed": false,
    "ExecuteTime": {
     "start_time": "2023-04-04T13:14:51.579815Z",
     "end_time": "2023-04-04T13:14:51.642994Z"
    }
   }
  },
  {
   "cell_type": "code",
   "execution_count": 50,
   "outputs": [],
   "source": [
    "# dimension testing"
   ],
   "metadata": {
    "collapsed": false,
    "ExecuteTime": {
     "start_time": "2023-04-04T13:14:51.620868Z",
     "end_time": "2023-04-04T13:14:51.643350Z"
    }
   }
  },
  {
   "cell_type": "code",
   "execution_count": 51,
   "outputs": [],
   "source": [
    "def dimtest(x, true_dim)->bool:\n",
    "    my_dim = dim(x)\n",
    "    success = (my_dim == true_dim)\n",
    "    if success:\n",
    "        print(x)\n",
    "        print(\"has dimension\")\n",
    "        print(true_dim)\n",
    "        print(\"succeed dimtest\")\n",
    "    else:\n",
    "        print(x)\n",
    "        print(\"has dimension\")\n",
    "        print(true_dim, \" but we got \", my_dim)\n",
    "    return success"
   ],
   "metadata": {
    "collapsed": false,
    "ExecuteTime": {
     "start_time": "2023-04-04T13:14:51.621048Z",
     "end_time": "2023-04-04T13:14:51.643395Z"
    }
   }
  },
  {
   "cell_type": "code",
   "execution_count": 52,
   "outputs": [],
   "source": [
    "dimtest_example_none, truedim_none = None, []\n",
    "dimtest_example_0d, truedim_0d = \"This is a scalar\", []\n",
    "dimtest_example_1d, truedim_1d = [\"This\",\"is\", \"a\", \"vector\"], [4]\n",
    "dimtest_example_2d, truedim_2d =[[\"This\",\"is\"], [\"a\", \"matrix\"],[\"of\",\"strings\"]], [3,2]\n",
    "dimtest_example_3d, truedim_3d = [[[\"This\",\"is\"], [\"a\", \"hypermatrix\"],[\"of\",\"strings\"]], [[\"which\",\"has\"], [\"shape\", \"2\"],[\"3\",\"2\"]]], [2,3,2]"
   ],
   "metadata": {
    "collapsed": false,
    "ExecuteTime": {
     "start_time": "2023-04-04T13:14:51.621212Z",
     "end_time": "2023-04-04T13:14:51.643433Z"
    }
   }
  },
  {
   "cell_type": "code",
   "execution_count": 53,
   "outputs": [
    {
     "name": "stdout",
     "output_type": "stream",
     "text": [
      "None\n",
      "has dimension\n",
      "[]\n",
      "succeed dimtest\n",
      "This is a scalar\n",
      "has dimension\n",
      "[]\n",
      "succeed dimtest\n",
      "['This', 'is', 'a', 'vector']\n",
      "has dimension\n",
      "[4]\n",
      "succeed dimtest\n",
      "[['This', 'is'], ['a', 'matrix'], ['of', 'strings']]\n",
      "has dimension\n",
      "[3, 2]\n",
      "succeed dimtest\n",
      "[[['This', 'is'], ['a', 'hypermatrix'], ['of', 'strings']], [['which', 'has'], ['shape', '2'], ['3', '2']]]\n",
      "has dimension\n",
      "[2, 3, 2]\n",
      "succeed dimtest\n",
      "dimtest succeed\n"
     ]
    }
   ],
   "source": [
    "succeed_all = True\n",
    "for x, truedim in zip([dimtest_example_none, dimtest_example_0d, dimtest_example_1d, dimtest_example_2d, dimtest_example_3d],[truedim_none, truedim_0d, truedim_1d, truedim_2d, truedim_3d]):\n",
    "\n",
    "    succeed_all = succeed_all & dimtest(x, truedim)\n",
    "if succeed_all:\n",
    "    print(\"dimtest succeed\")"
   ],
   "metadata": {
    "collapsed": false,
    "ExecuteTime": {
     "start_time": "2023-04-04T13:14:51.624140Z",
     "end_time": "2023-04-04T13:14:51.715110Z"
    }
   }
  },
  {
   "cell_type": "code",
   "execution_count": 54,
   "outputs": [],
   "source": [
    "# rectangular testing"
   ],
   "metadata": {
    "collapsed": false,
    "ExecuteTime": {
     "start_time": "2023-04-04T13:14:51.668763Z",
     "end_time": "2023-04-04T13:14:51.715259Z"
    }
   }
  },
  {
   "cell_type": "code",
   "execution_count": 55,
   "outputs": [],
   "source": [
    "def rectangular_test(x, true_rectangular:bool)->bool:\n",
    "    my_rectangular = is_rectangular(x)\n",
    "    success = (my_rectangular == true_rectangular)\n",
    "    if success:\n",
    "        print(x)\n",
    "        if true_rectangular:\n",
    "            print(\"is rectangular\")\n",
    "        else:\n",
    "            print(\"is not rectangular\")\n",
    "        print(\"succeed rectangular test\")\n",
    "    else:\n",
    "        print(x)\n",
    "        if true_rectangular:\n",
    "            print(\"is rectangular. But we got result that x is not rectangular\")\n",
    "        else:\n",
    "            print(\"is not rectangular. But we got result that x is rectangular\")\n",
    "    return success"
   ],
   "metadata": {
    "collapsed": false,
    "ExecuteTime": {
     "start_time": "2023-04-04T13:14:51.668953Z",
     "end_time": "2023-04-04T13:14:51.715800Z"
    }
   }
  },
  {
   "cell_type": "code",
   "execution_count": 56,
   "outputs": [],
   "source": [
    "rectest_example_true_none, rectest_label_none = None, True # []\n",
    "rectest_example_true_0d, rectest_label_true_0d = 1234, True # []\n",
    "rectest_example_true_1d, rectest_label_true_1d = [1,2,3,4], True # [4]\n",
    "rectest_example_true_2d, rectest_label_true_2d = [[1,2,3],[4,5,6]], True # [2,3]\n",
    "rectest_example_false_2d, rectest_label_false_2d = [[1,2],[3,4,5]], False # [2,?]\n",
    "rectest_example_true_3d, rectest_label_true_3d = [[[1,2,3],[4,5,6],[7,8,9]],[[1,2],[3,4],[5,6]]], True # [2,3,?]\n",
    "rectest_example_false_3d, rectest_label_false_3d = [[[1,2,3],[4,5,6],[7,8,9]],[[1,2,3],[4,5,6]]], False # [2,?,3]"
   ],
   "metadata": {
    "collapsed": false,
    "ExecuteTime": {
     "start_time": "2023-04-04T13:14:51.712725Z",
     "end_time": "2023-04-04T13:14:51.715895Z"
    }
   }
  },
  {
   "cell_type": "code",
   "execution_count": 57,
   "outputs": [
    {
     "name": "stdout",
     "output_type": "stream",
     "text": [
      "None\n",
      "is rectangular\n",
      "succeed rectangular test\n",
      "1234\n",
      "is rectangular\n",
      "succeed rectangular test\n",
      "[1, 2, 3, 4]\n",
      "is rectangular\n",
      "succeed rectangular test\n",
      "[[1, 2, 3], [4, 5, 6]]\n",
      "is rectangular\n",
      "succeed rectangular test\n",
      "[[[1, 2, 3], [4, 5, 6], [7, 8, 9]], [[1, 2], [3, 4], [5, 6]]]\n",
      "is rectangular\n",
      "succeed rectangular test\n",
      "[[1, 2], [3, 4, 5]]\n",
      "is not rectangular\n",
      "succeed rectangular test\n",
      "[[[1, 2, 3], [4, 5, 6], [7, 8, 9]], [[1, 2, 3], [4, 5, 6]]]\n",
      "is not rectangular\n",
      "succeed rectangular test\n",
      "rectangular_test succeed\n"
     ]
    }
   ],
   "source": [
    "succeed_all = True\n",
    "for x, true_rectangular in zip([rectest_example_true_none,rectest_example_true_0d,rectest_example_true_1d,rectest_example_true_2d,rectest_example_true_3d,rectest_example_false_2d,rectest_example_false_3d],\n",
    "        [rectest_label_none,rectest_label_true_0d,rectest_label_true_1d,rectest_label_true_2d,rectest_label_true_3d,rectest_label_false_2d,rectest_label_false_3d]):\n",
    "    succeed_all = succeed_all & rectangular_test(x, true_rectangular)\n",
    "if succeed_all:\n",
    "    print(\"rectangular_test succeed\")"
   ],
   "metadata": {
    "collapsed": false,
    "ExecuteTime": {
     "start_time": "2023-04-04T13:14:51.712941Z",
     "end_time": "2023-04-04T13:14:51.715996Z"
    }
   }
  },
  {
   "cell_type": "code",
   "execution_count": 58,
   "outputs": [],
   "source": [
    "#my_transpose testing"
   ],
   "metadata": {
    "collapsed": false,
    "ExecuteTime": {
     "start_time": "2023-04-04T13:14:51.713153Z",
     "end_time": "2023-04-04T13:14:51.773840Z"
    }
   }
  },
  {
   "cell_type": "code",
   "execution_count": 59,
   "outputs": [],
   "source": [
    "def test_mytranspose(x, true_tp)->bool:\n",
    "    my_tp = mytranspose(x)\n",
    "    success = (my_tp==true_tp)\n",
    "    if success:\n",
    "        print(\"mytranspose successfully transposed\")\n",
    "        print(x)\n",
    "        print(\"to\")\n",
    "        print(my_tp)\n",
    "    else:\n",
    "        print(\"mytranspose failied to transpose\")\n",
    "        print(x)\n",
    "        print(\"to\")\n",
    "        print(true_tp)\n",
    "        print(\"instead\")\n",
    "        print(my_tp)\n",
    "        print(\"was obtained\")\n",
    "    return success"
   ],
   "metadata": {
    "collapsed": false,
    "ExecuteTime": {
     "start_time": "2023-04-04T13:14:51.756882Z",
     "end_time": "2023-04-04T13:14:51.790433Z"
    }
   }
  },
  {
   "cell_type": "code",
   "execution_count": 60,
   "outputs": [],
   "source": [
    "# null testing"
   ],
   "metadata": {
    "collapsed": false,
    "ExecuteTime": {
     "start_time": "2023-04-04T13:14:51.757048Z",
     "end_time": "2023-04-04T13:14:51.790614Z"
    }
   }
  },
  {
   "cell_type": "code",
   "execution_count": 61,
   "outputs": [],
   "source": [
    "null_dataset_1, null_transpose_1 = None, None"
   ],
   "metadata": {
    "collapsed": false,
    "ExecuteTime": {
     "start_time": "2023-04-04T13:14:51.757195Z",
     "end_time": "2023-04-04T13:14:51.790660Z"
    }
   }
  },
  {
   "cell_type": "code",
   "execution_count": 62,
   "outputs": [
    {
     "name": "stdout",
     "output_type": "stream",
     "text": [
      "mytranspose successfully transposed\n",
      "None\n",
      "to\n",
      "None\n",
      "null transposing succeed\n"
     ]
    }
   ],
   "source": [
    "succeed_all = True\n",
    "for x, true_tp in zip([null_dataset_1],[null_transpose_1]):\n",
    "    succeed_all = succeed_all & test_mytranspose(x, true_tp)\n",
    "if succeed_all:\n",
    "    print(\"null transposing succeed\")"
   ],
   "metadata": {
    "collapsed": false,
    "ExecuteTime": {
     "start_time": "2023-04-04T13:14:51.757368Z",
     "end_time": "2023-04-04T13:14:51.818440Z"
    }
   }
  },
  {
   "cell_type": "code",
   "execution_count": 63,
   "outputs": [],
   "source": [
    "# scalar testing"
   ],
   "metadata": {
    "collapsed": false,
    "ExecuteTime": {
     "start_time": "2023-04-04T13:14:51.804912Z",
     "end_time": "2023-04-04T13:14:51.818579Z"
    }
   }
  },
  {
   "cell_type": "code",
   "execution_count": 64,
   "outputs": [],
   "source": [
    "scalar_dataset_1, scalar_transpose_1 = \"string scalar\", \"string scalar\"\n",
    "scalar_dataset_2, scalar_transpose_2 = 1234, 1234"
   ],
   "metadata": {
    "collapsed": false,
    "ExecuteTime": {
     "start_time": "2023-04-04T13:14:51.805094Z",
     "end_time": "2023-04-04T13:14:51.818659Z"
    }
   }
  },
  {
   "cell_type": "code",
   "execution_count": 65,
   "outputs": [
    {
     "name": "stdout",
     "output_type": "stream",
     "text": [
      "mytranspose successfully transposed\n",
      "string scalar\n",
      "to\n",
      "string scalar\n",
      "mytranspose successfully transposed\n",
      "1234\n",
      "to\n",
      "1234\n",
      "scalar transposing succeed\n"
     ]
    }
   ],
   "source": [
    "succeed_all = True\n",
    "for x, true_tp in zip([scalar_dataset_1,scalar_dataset_2],[scalar_transpose_1,scalar_transpose_2]):\n",
    "    succeed_all = succeed_all & test_mytranspose(x,true_tp)\n",
    "if succeed_all:\n",
    "    print(\"scalar transposing succeed\")"
   ],
   "metadata": {
    "collapsed": false,
    "ExecuteTime": {
     "start_time": "2023-04-04T13:14:51.805256Z",
     "end_time": "2023-04-04T13:14:51.818799Z"
    }
   }
  },
  {
   "cell_type": "code",
   "execution_count": 66,
   "outputs": [],
   "source": [
    "# vector testing"
   ],
   "metadata": {
    "collapsed": false,
    "ExecuteTime": {
     "start_time": "2023-04-04T13:14:51.807059Z",
     "end_time": "2023-04-04T13:14:51.828317Z"
    }
   }
  },
  {
   "cell_type": "code",
   "execution_count": 67,
   "outputs": [],
   "source": [
    "vector_dataset_1, vector_transpose_1 = [\"string\",\"vector\"], [\"string\",\"vector\"]\n",
    "vector_dataset_2, vector_transpose_2 = [1,2,3,4], [1,2,3,4]\n",
    "vector_dataset_3, vector_transpose_3 = [\"mixed\", \"vector\", 1, 2], [\"mixed\", \"vector\", 1, 2]"
   ],
   "metadata": {
    "collapsed": false,
    "ExecuteTime": {
     "start_time": "2023-04-04T13:14:51.827432Z",
     "end_time": "2023-04-04T13:14:51.892973Z"
    }
   }
  },
  {
   "cell_type": "code",
   "execution_count": 68,
   "outputs": [
    {
     "name": "stdout",
     "output_type": "stream",
     "text": [
      "mytranspose successfully transposed\n",
      "['string', 'vector']\n",
      "to\n",
      "['string', 'vector']\n",
      "mytranspose successfully transposed\n",
      "[1, 2, 3, 4]\n",
      "to\n",
      "[1, 2, 3, 4]\n",
      "mytranspose successfully transposed\n",
      "['mixed', 'vector', 1, 2]\n",
      "to\n",
      "['mixed', 'vector', 1, 2]\n",
      "vector transposing succeed\n"
     ]
    }
   ],
   "source": [
    "succeed_all = True\n",
    "for x, true_tp in zip([vector_dataset_1,vector_dataset_2,vector_dataset_3],[vector_transpose_1,vector_transpose_2,vector_transpose_3]):\n",
    "    succeed_all = succeed_all & test_mytranspose(x, true_tp)\n",
    "if succeed_all:\n",
    "    print(\"vector transposing succeed\")"
   ],
   "metadata": {
    "collapsed": false,
    "ExecuteTime": {
     "start_time": "2023-04-04T13:14:51.868753Z",
     "end_time": "2023-04-04T13:14:51.895788Z"
    }
   }
  },
  {
   "cell_type": "code",
   "execution_count": 69,
   "outputs": [],
   "source": [
    "# matraix testing"
   ],
   "metadata": {
    "collapsed": false,
    "ExecuteTime": {
     "start_time": "2023-04-04T13:14:51.869010Z",
     "end_time": "2023-04-04T13:14:51.942263Z"
    }
   }
  },
  {
   "cell_type": "code",
   "execution_count": 70,
   "outputs": [],
   "source": [
    "matrix_dataset_1, matrix_transpose_1 = [[\"string\", \"matrix\"],[\"my\",\"transpose\"]], [[\"string\",\"my\"],[\"matrix\",\"transpose\"]]\n",
    "matrix_dataset_2, matrix_transpose_2 = [[1,2,3],[4,5,6]], [[1,4],[2,5],[3,6]]\n",
    "matrix_dataset_3, matrix_transpose_3 = [[\"scalar\",\"matrix\",1,2],[\"numeric\",\"matrix\",1,2]], [[\"scalar\",\"numeric\"],[\"matrix\",\"matrix\"],[1,1],[2,2]]"
   ],
   "metadata": {
    "collapsed": false,
    "ExecuteTime": {
     "start_time": "2023-04-04T13:14:51.916814Z",
     "end_time": "2023-04-04T13:14:51.953445Z"
    }
   }
  },
  {
   "cell_type": "code",
   "execution_count": 71,
   "outputs": [
    {
     "name": "stdout",
     "output_type": "stream",
     "text": [
      "mytranspose successfully transposed\n",
      "[['string', 'matrix'], ['my', 'transpose']]\n",
      "to\n",
      "[['string', 'my'], ['matrix', 'transpose']]\n",
      "mytranspose successfully transposed\n",
      "[[1, 2, 3], [4, 5, 6]]\n",
      "to\n",
      "[[1, 4], [2, 5], [3, 6]]\n",
      "mytranspose successfully transposed\n",
      "[['scalar', 'matrix', 1, 2], ['numeric', 'matrix', 1, 2]]\n",
      "to\n",
      "[['scalar', 'numeric'], ['matrix', 'matrix'], [1, 1], [2, 2]]\n",
      "matrix transposing succeed\n"
     ]
    }
   ],
   "source": [
    "succeed_all = True\n",
    "for x, true_tp in zip([matrix_dataset_1,matrix_dataset_2,matrix_dataset_3],[matrix_transpose_1,matrix_transpose_2,matrix_transpose_3]):\n",
    "    succeed_all = succeed_all & test_mytranspose(x, true_tp)\n",
    "if succeed_all:\n",
    "    print(\"matrix transposing succeed\")"
   ],
   "metadata": {
    "collapsed": false,
    "ExecuteTime": {
     "start_time": "2023-04-04T13:14:51.916984Z",
     "end_time": "2023-04-04T13:14:51.953966Z"
    }
   }
  },
  {
   "cell_type": "code",
   "execution_count": 72,
   "outputs": [],
   "source": [
    "# hypermatrix testing\n",
    "hypermatrix_dataset_1, hypermatrix_transpose_1 = [[[1,2],[3,4]],[[5,6],[7,8]]], [[[1,2],[5,6]],[[3,4],[7,8]]]\n",
    "hypermatrix_dataset_2, hypermatrix_transpose_2 = [[[\"string\",\"hyper\"],[\"matrix\",\"transpose\"]],[[\"testing\",\"should\"],[\"be\",\"successful\"]]],[[[\"string\",\"hyper\"],[\"testing\",\"should\"]],[[\"matrix\",\"transpose\"],[\"be\",\"successful\"]]]\n",
    "hypermatrix_dataset_3, hypermatrix_transpose_3 = [[[1,2],[3,4],[5,6]],[[7],[8],[9]]], [[[1,2],[7]],[[3,4],[8]],[[5,6],[9]]]"
   ],
   "metadata": {
    "collapsed": false,
    "ExecuteTime": {
     "start_time": "2023-04-04T13:14:51.917223Z",
     "end_time": "2023-04-04T13:14:51.954100Z"
    }
   }
  },
  {
   "cell_type": "code",
   "execution_count": 73,
   "outputs": [
    {
     "name": "stdout",
     "output_type": "stream",
     "text": [
      "mytranspose successfully transposed\n",
      "[[[1, 2], [3, 4]], [[5, 6], [7, 8]]]\n",
      "to\n",
      "[[[1, 2], [5, 6]], [[3, 4], [7, 8]]]\n",
      "mytranspose successfully transposed\n",
      "[[['string', 'hyper'], ['matrix', 'transpose']], [['testing', 'should'], ['be', 'successful']]]\n",
      "to\n",
      "[[['string', 'hyper'], ['testing', 'should']], [['matrix', 'transpose'], ['be', 'successful']]]\n",
      "mytranspose successfully transposed\n",
      "[[[1, 2], [3, 4], [5, 6]], [[7], [8], [9]]]\n",
      "to\n",
      "[[[1, 2], [7]], [[3, 4], [8]], [[5, 6], [9]]]\n",
      "hypermatrix transposing succeed\n"
     ]
    }
   ],
   "source": [
    "succeed_all = True\n",
    "for x, true_tp in zip([hypermatrix_dataset_1,hypermatrix_dataset_2,hypermatrix_dataset_3],[hypermatrix_transpose_1,hypermatrix_transpose_2,hypermatrix_transpose_3]):\n",
    "    succeed_all = succeed_all & test_mytranspose(x,true_tp)\n",
    "if succeed_all:\n",
    "    print(\"hypermatrix transposing succeed\")"
   ],
   "metadata": {
    "collapsed": false,
    "ExecuteTime": {
     "start_time": "2023-04-04T13:14:51.917406Z",
     "end_time": "2023-04-04T13:14:51.965804Z"
    }
   }
  }
 ],
 "metadata": {
  "kernelspec": {
   "display_name": "Python 3",
   "language": "python",
   "name": "python3"
  },
  "language_info": {
   "codemirror_mode": {
    "name": "ipython",
    "version": 2
   },
   "file_extension": ".py",
   "mimetype": "text/x-python",
   "name": "python",
   "nbconvert_exporter": "python",
   "pygments_lexer": "ipython2",
   "version": "2.7.6"
  }
 },
 "nbformat": 4,
 "nbformat_minor": 0
}
