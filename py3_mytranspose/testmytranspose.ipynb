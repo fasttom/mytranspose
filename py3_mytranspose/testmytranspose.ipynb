{
 "cells": [
  {
   "cell_type": "code",
   "execution_count": 105,
   "outputs": [],
   "source": [
    "from mytranspose import *"
   ],
   "metadata": {
    "collapsed": false,
    "ExecuteTime": {
     "start_time": "2023-04-05T14:19:59.160376Z",
     "end_time": "2023-04-05T14:19:59.247757Z"
    }
   }
  },
  {
   "cell_type": "code",
   "execution_count": 106,
   "outputs": [],
   "source": [
    "# dimension testing"
   ],
   "metadata": {
    "collapsed": false,
    "ExecuteTime": {
     "start_time": "2023-04-05T14:19:59.207016Z",
     "end_time": "2023-04-05T14:19:59.299490Z"
    }
   }
  },
  {
   "cell_type": "code",
   "execution_count": 107,
   "outputs": [],
   "source": [
    "def dimtest(x, true_dim)->bool:\n",
    "    my_dim = dim(x)\n",
    "    success = (my_dim == true_dim)\n",
    "    if success:\n",
    "        print(x)\n",
    "        print(\"has dimension\")\n",
    "        print(true_dim)\n",
    "        print(\"succeed dimtest\")\n",
    "    else:\n",
    "        print(x)\n",
    "        print(\"has dimension\")\n",
    "        print(true_dim, \" but we got \", my_dim)\n",
    "    return success"
   ],
   "metadata": {
    "collapsed": false,
    "ExecuteTime": {
     "start_time": "2023-04-05T14:19:59.207224Z",
     "end_time": "2023-04-05T14:19:59.299610Z"
    }
   }
  },
  {
   "cell_type": "code",
   "execution_count": 108,
   "outputs": [],
   "source": [
    "dimtest_example_none, truedim_none = None, []\n",
    "dimtest_example_0d, truedim_0d = \"This is a scalar\", []\n",
    "dimtest_example_1d, truedim_1d = [\"This\",\"is\", \"a\", \"vector\"], [4]\n",
    "dimtest_example_2d, truedim_2d =[[\"This\",\"is\"], [\"a\", \"matrix\"],[\"of\",\"strings\"]], [3,2]\n",
    "dimtest_example_3d, truedim_3d = [[[\"This\",\"is\"], [\"a\", \"hypermatrix\"],[\"of\",\"strings\"]], [[\"which\",\"has\"], [\"shape\", \"2\"],[\"3\",\"2\"]]], [2,3,2]"
   ],
   "metadata": {
    "collapsed": false,
    "ExecuteTime": {
     "start_time": "2023-04-05T14:19:59.207404Z",
     "end_time": "2023-04-05T14:19:59.299653Z"
    }
   }
  },
  {
   "cell_type": "code",
   "execution_count": 109,
   "outputs": [
    {
     "name": "stdout",
     "output_type": "stream",
     "text": [
      "None\n",
      "has dimension\n",
      "[]\n",
      "succeed dimtest\n",
      "This is a scalar\n",
      "has dimension\n",
      "[]\n",
      "succeed dimtest\n",
      "['This', 'is', 'a', 'vector']\n",
      "has dimension\n",
      "[4]\n",
      "succeed dimtest\n",
      "[['This', 'is'], ['a', 'matrix'], ['of', 'strings']]\n",
      "has dimension\n",
      "[3, 2]\n",
      "succeed dimtest\n",
      "[[['This', 'is'], ['a', 'hypermatrix'], ['of', 'strings']], [['which', 'has'], ['shape', '2'], ['3', '2']]]\n",
      "has dimension\n",
      "[2, 3, 2]\n",
      "succeed dimtest\n",
      "dimtest succeed\n"
     ]
    }
   ],
   "source": [
    "succeed_all = True\n",
    "for x, truedim in zip([dimtest_example_none, dimtest_example_0d, dimtest_example_1d, dimtest_example_2d, dimtest_example_3d],[truedim_none, truedim_0d, truedim_1d, truedim_2d, truedim_3d]):\n",
    "    succeed_all = succeed_all & dimtest(x, truedim)\n",
    "if succeed_all:\n",
    "    print(\"dimtest succeed\")"
   ],
   "metadata": {
    "collapsed": false,
    "ExecuteTime": {
     "start_time": "2023-04-05T14:19:59.207514Z",
     "end_time": "2023-04-05T14:19:59.299774Z"
    }
   }
  },
  {
   "cell_type": "code",
   "execution_count": 110,
   "outputs": [],
   "source": [
    "# rectangular testing"
   ],
   "metadata": {
    "collapsed": false,
    "ExecuteTime": {
     "start_time": "2023-04-05T14:19:59.231333Z",
     "end_time": "2023-04-05T14:19:59.299975Z"
    }
   }
  },
  {
   "cell_type": "code",
   "execution_count": 111,
   "outputs": [],
   "source": [
    "def rectangular_test(x, true_rectangular:bool)->bool:\n",
    "    my_rectangular = is_rectangular(x)\n",
    "    success = (my_rectangular == true_rectangular)\n",
    "    if success:\n",
    "        print(x)\n",
    "        if true_rectangular:\n",
    "            print(\"is rectangular\")\n",
    "        else:\n",
    "            print(\"is not rectangular\")\n",
    "        print(\"succeed rectangular test\")\n",
    "    else:\n",
    "        print(x)\n",
    "        if true_rectangular:\n",
    "            print(\"is rectangular. But we got result that x is not rectangular\")\n",
    "        else:\n",
    "            print(\"is not rectangular. But we got result that x is rectangular\")\n",
    "    return success"
   ],
   "metadata": {
    "collapsed": false,
    "ExecuteTime": {
     "start_time": "2023-04-05T14:19:59.249960Z",
     "end_time": "2023-04-05T14:19:59.300034Z"
    }
   }
  },
  {
   "cell_type": "code",
   "execution_count": 112,
   "outputs": [],
   "source": [
    "rectest_example_true_none, rectest_label_none = None, True # []\n",
    "rectest_example_true_0d, rectest_label_true_0d = 1234, True # []\n",
    "rectest_example_true_1d, rectest_label_true_1d = [1,2,3,4], True # [4]\n",
    "rectest_example_true_2d, rectest_label_true_2d = [[1,2,3],[4,5,6]], True # [2,3]\n",
    "rectest_example_false_2d, rectest_label_false_2d = [[1,2],[3,4,5]], False # [2,?]\n",
    "rectest_example_true_3d, rectest_label_true_3d = [[[1,2,3],[4,5,6],[7,8,9]],[[1,2],[3,4],[5,6]]], True # [2,3,?]\n",
    "rectest_example_false_3d, rectest_label_false_3d = [[[1,2,3],[4,5,6],[7,8,9]],[[1,2,3],[4,5,6]]], False # [2,?,3]"
   ],
   "metadata": {
    "collapsed": false,
    "ExecuteTime": {
     "start_time": "2023-04-05T14:19:59.295010Z",
     "end_time": "2023-04-05T14:19:59.300063Z"
    }
   }
  },
  {
   "cell_type": "code",
   "execution_count": 113,
   "outputs": [
    {
     "name": "stdout",
     "output_type": "stream",
     "text": [
      "None\n",
      "is rectangular\n",
      "succeed rectangular test\n",
      "1234\n",
      "is rectangular\n",
      "succeed rectangular test\n",
      "[1, 2, 3, 4]\n",
      "is rectangular\n",
      "succeed rectangular test\n",
      "[[1, 2, 3], [4, 5, 6]]\n",
      "is rectangular\n",
      "succeed rectangular test\n",
      "[[[1, 2, 3], [4, 5, 6], [7, 8, 9]], [[1, 2], [3, 4], [5, 6]]]\n",
      "is rectangular\n",
      "succeed rectangular test\n",
      "[[1, 2], [3, 4, 5]]\n",
      "is not rectangular\n",
      "succeed rectangular test\n",
      "[[[1, 2, 3], [4, 5, 6], [7, 8, 9]], [[1, 2, 3], [4, 5, 6]]]\n",
      "is not rectangular\n",
      "succeed rectangular test\n",
      "rectangular_test succeed\n"
     ]
    }
   ],
   "source": [
    "succeed_all = True\n",
    "for x, true_rectangular in zip([rectest_example_true_none,rectest_example_true_0d,rectest_example_true_1d,rectest_example_true_2d,rectest_example_true_3d,rectest_example_false_2d,rectest_example_false_3d],\n",
    "        [rectest_label_none,rectest_label_true_0d,rectest_label_true_1d,rectest_label_true_2d,rectest_label_true_3d,rectest_label_false_2d,rectest_label_false_3d]):\n",
    "    succeed_all = succeed_all & rectangular_test(x, true_rectangular)\n",
    "if succeed_all:\n",
    "    print(\"rectangular_test succeed\")"
   ],
   "metadata": {
    "collapsed": false,
    "ExecuteTime": {
     "start_time": "2023-04-05T14:19:59.295121Z",
     "end_time": "2023-04-05T14:19:59.300127Z"
    }
   }
  },
  {
   "cell_type": "code",
   "execution_count": 114,
   "outputs": [],
   "source": [
    "#my_transpose testing"
   ],
   "metadata": {
    "collapsed": false,
    "ExecuteTime": {
     "start_time": "2023-04-05T14:19:59.338924Z",
     "end_time": "2023-04-05T14:19:59.355178Z"
    }
   }
  },
  {
   "cell_type": "code",
   "execution_count": 115,
   "outputs": [],
   "source": [
    "def test_mytranspose(x, true_tp)->bool:\n",
    "    my_tp = mytranspose(x)\n",
    "    success = (my_tp==true_tp)\n",
    "    if success:\n",
    "        print(\"mytranspose successfully transposed\")\n",
    "        print(x)\n",
    "        print(\"to\")\n",
    "        print(my_tp)\n",
    "    else:\n",
    "        print(\"mytranspose failied to transpose\")\n",
    "        print(x)\n",
    "        print(\"to\")\n",
    "        print(true_tp)\n",
    "        print(\"instead\")\n",
    "        print(my_tp)\n",
    "        print(\"was obtained\")\n",
    "    return success"
   ],
   "metadata": {
    "collapsed": false,
    "ExecuteTime": {
     "start_time": "2023-04-05T14:19:59.339033Z",
     "end_time": "2023-04-05T14:19:59.385233Z"
    }
   }
  },
  {
   "cell_type": "code",
   "execution_count": 116,
   "outputs": [],
   "source": [
    "# null testing"
   ],
   "metadata": {
    "collapsed": false,
    "ExecuteTime": {
     "start_time": "2023-04-05T14:19:59.339118Z",
     "end_time": "2023-04-05T14:19:59.385359Z"
    }
   }
  },
  {
   "cell_type": "code",
   "execution_count": 117,
   "outputs": [],
   "source": [
    "null_dataset_1, null_transpose_1 = None, None"
   ],
   "metadata": {
    "collapsed": false,
    "ExecuteTime": {
     "start_time": "2023-04-05T14:19:59.339873Z",
     "end_time": "2023-04-05T14:19:59.385624Z"
    }
   }
  },
  {
   "cell_type": "code",
   "execution_count": 118,
   "outputs": [
    {
     "name": "stdout",
     "output_type": "stream",
     "text": [
      "mytranspose successfully transposed\n",
      "None\n",
      "to\n",
      "None\n",
      "null transposing succeed\n"
     ]
    }
   ],
   "source": [
    "succeed_all = True\n",
    "for x, true_tp in zip([null_dataset_1],[null_transpose_1]):\n",
    "    succeed_all = succeed_all & test_mytranspose(x, true_tp)\n",
    "if succeed_all:\n",
    "    print(\"null transposing succeed\")"
   ],
   "metadata": {
    "collapsed": false,
    "ExecuteTime": {
     "start_time": "2023-04-05T14:19:59.360348Z",
     "end_time": "2023-04-05T14:19:59.413823Z"
    }
   }
  },
  {
   "cell_type": "code",
   "execution_count": 119,
   "outputs": [],
   "source": [
    "# scalar testing"
   ],
   "metadata": {
    "collapsed": false,
    "ExecuteTime": {
     "start_time": "2023-04-05T14:19:59.378410Z",
     "end_time": "2023-04-05T14:19:59.428056Z"
    }
   }
  },
  {
   "cell_type": "code",
   "execution_count": 120,
   "outputs": [],
   "source": [
    "scalar_dataset_1, scalar_transpose_1 = \"string scalar\", \"string scalar\"\n",
    "scalar_dataset_2, scalar_transpose_2 = 1234, 1234"
   ],
   "metadata": {
    "collapsed": false,
    "ExecuteTime": {
     "start_time": "2023-04-05T14:19:59.423001Z",
     "end_time": "2023-04-05T14:19:59.428237Z"
    }
   }
  },
  {
   "cell_type": "code",
   "execution_count": 121,
   "outputs": [
    {
     "name": "stdout",
     "output_type": "stream",
     "text": [
      "mytranspose successfully transposed\n",
      "string scalar\n",
      "to\n",
      "string scalar\n",
      "mytranspose successfully transposed\n",
      "1234\n",
      "to\n",
      "1234\n",
      "scalar transposing succeed\n"
     ]
    }
   ],
   "source": [
    "succeed_all = True\n",
    "for x, true_tp in zip([scalar_dataset_1,scalar_dataset_2],[scalar_transpose_1,scalar_transpose_2]):\n",
    "    succeed_all = succeed_all & test_mytranspose(x,true_tp)\n",
    "if succeed_all:\n",
    "    print(\"scalar transposing succeed\")"
   ],
   "metadata": {
    "collapsed": false,
    "ExecuteTime": {
     "start_time": "2023-04-05T14:19:59.423110Z",
     "end_time": "2023-04-05T14:19:59.428488Z"
    }
   }
  },
  {
   "cell_type": "code",
   "execution_count": 122,
   "outputs": [],
   "source": [
    "# vector testing"
   ],
   "metadata": {
    "collapsed": false,
    "ExecuteTime": {
     "start_time": "2023-04-05T14:19:59.423208Z",
     "end_time": "2023-04-05T14:19:59.467051Z"
    }
   }
  },
  {
   "cell_type": "code",
   "execution_count": 123,
   "outputs": [],
   "source": [
    "vector_dataset_1, vector_transpose_1 = [\"string\",\"vector\"], [\"string\",\"vector\"]\n",
    "vector_dataset_2, vector_transpose_2 = [1,2,3,4], [1,2,3,4]\n",
    "vector_dataset_3, vector_transpose_3 = [\"mixed\", \"vector\", 1, 2], [\"mixed\", \"vector\", 1, 2]"
   ],
   "metadata": {
    "collapsed": false,
    "ExecuteTime": {
     "start_time": "2023-04-05T14:19:59.467102Z",
     "end_time": "2023-04-05T14:19:59.467184Z"
    }
   }
  },
  {
   "cell_type": "code",
   "execution_count": 124,
   "outputs": [
    {
     "name": "stdout",
     "output_type": "stream",
     "text": [
      "mytranspose successfully transposed\n",
      "['string', 'vector']\n",
      "to\n",
      "['string', 'vector']\n",
      "mytranspose successfully transposed\n",
      "[1, 2, 3, 4]\n",
      "to\n",
      "[1, 2, 3, 4]\n",
      "mytranspose successfully transposed\n",
      "['mixed', 'vector', 1, 2]\n",
      "to\n",
      "['mixed', 'vector', 1, 2]\n",
      "vector transposing succeed\n"
     ]
    }
   ],
   "source": [
    "succeed_all = True\n",
    "for x, true_tp in zip([vector_dataset_1,vector_dataset_2,vector_dataset_3],[vector_transpose_1,vector_transpose_2,vector_transpose_3]):\n",
    "    succeed_all = succeed_all & test_mytranspose(x, true_tp)\n",
    "if succeed_all:\n",
    "    print(\"vector transposing succeed\")"
   ],
   "metadata": {
    "collapsed": false,
    "ExecuteTime": {
     "start_time": "2023-04-05T14:19:59.467212Z",
     "end_time": "2023-04-05T14:19:59.469436Z"
    }
   }
  },
  {
   "cell_type": "code",
   "execution_count": 125,
   "outputs": [],
   "source": [
    "# matraix testing"
   ],
   "metadata": {
    "collapsed": false,
    "ExecuteTime": {
     "start_time": "2023-04-05T14:19:59.467325Z",
     "end_time": "2023-04-05T14:19:59.471923Z"
    }
   }
  },
  {
   "cell_type": "code",
   "execution_count": 126,
   "outputs": [],
   "source": [
    "matrix_dataset_1, matrix_transpose_1 = [[\"string\", \"matrix\"],[\"my\",\"transpose\"]], [[\"string\",\"my\"],[\"matrix\",\"transpose\"]]\n",
    "matrix_dataset_2, matrix_transpose_2 = [[1,2,3],[4,5,6]], [[1,4],[2,5],[3,6]]\n",
    "matrix_dataset_3, matrix_transpose_3 = [[\"scalar\",\"matrix\",1,2],[\"numeric\",\"matrix\",1,2]], [[\"scalar\",\"numeric\"],[\"matrix\",\"matrix\"],[1,1],[2,2]]"
   ],
   "metadata": {
    "collapsed": false,
    "ExecuteTime": {
     "start_time": "2023-04-05T14:19:59.471588Z",
     "end_time": "2023-04-05T14:19:59.524523Z"
    }
   }
  },
  {
   "cell_type": "code",
   "execution_count": 127,
   "outputs": [
    {
     "name": "stdout",
     "output_type": "stream",
     "text": [
      "mytranspose successfully transposed\n",
      "[['string', 'matrix'], ['my', 'transpose']]\n",
      "to\n",
      "[['string', 'my'], ['matrix', 'transpose']]\n",
      "mytranspose successfully transposed\n",
      "[[1, 2, 3], [4, 5, 6]]\n",
      "to\n",
      "[[1, 4], [2, 5], [3, 6]]\n",
      "mytranspose successfully transposed\n",
      "[['scalar', 'matrix', 1, 2], ['numeric', 'matrix', 1, 2]]\n",
      "to\n",
      "[['scalar', 'numeric'], ['matrix', 'matrix'], [1, 1], [2, 2]]\n",
      "matrix transposing succeed\n"
     ]
    }
   ],
   "source": [
    "succeed_all = True\n",
    "for x, true_tp in zip([matrix_dataset_1,matrix_dataset_2,matrix_dataset_3],[matrix_transpose_1,matrix_transpose_2,matrix_transpose_3]):\n",
    "    succeed_all = succeed_all & test_mytranspose(x, true_tp)\n",
    "if succeed_all:\n",
    "    print(\"matrix transposing succeed\")"
   ],
   "metadata": {
    "collapsed": false,
    "ExecuteTime": {
     "start_time": "2023-04-05T14:19:59.515002Z",
     "end_time": "2023-04-05T14:19:59.524780Z"
    }
   }
  },
  {
   "cell_type": "code",
   "execution_count": 128,
   "outputs": [],
   "source": [
    "# hypermatrix testing\n",
    "hypermatrix_dataset_1, hypermatrix_transpose_1 = [[[1,2],[3,4]],[[5,6],[7,8]]], [[[1,2],[5,6]],[[3,4],[7,8]]]\n",
    "hypermatrix_dataset_2, hypermatrix_transpose_2 = [[[\"string\",\"hyper\"],[\"matrix\",\"transpose\"]],[[\"testing\",\"should\"],[\"be\",\"successful\"]]],[[[\"string\",\"hyper\"],[\"testing\",\"should\"]],[[\"matrix\",\"transpose\"],[\"be\",\"successful\"]]]\n",
    "hypermatrix_dataset_3, hypermatrix_transpose_3 = [[[1,2],[3,4],[5,6]],[[7],[8],[9]]], [[[1,2],[7]],[[3,4],[8]],[[5,6],[9]]]"
   ],
   "metadata": {
    "collapsed": false,
    "ExecuteTime": {
     "start_time": "2023-04-05T14:19:59.515116Z",
     "end_time": "2023-04-05T14:19:59.524812Z"
    }
   }
  },
  {
   "cell_type": "code",
   "execution_count": 129,
   "outputs": [
    {
     "name": "stdout",
     "output_type": "stream",
     "text": [
      "mytranspose successfully transposed\n",
      "[[[1, 2], [3, 4]], [[5, 6], [7, 8]]]\n",
      "to\n",
      "[[[1, 2], [5, 6]], [[3, 4], [7, 8]]]\n",
      "mytranspose successfully transposed\n",
      "[[['string', 'hyper'], ['matrix', 'transpose']], [['testing', 'should'], ['be', 'successful']]]\n",
      "to\n",
      "[[['string', 'hyper'], ['testing', 'should']], [['matrix', 'transpose'], ['be', 'successful']]]\n",
      "mytranspose successfully transposed\n",
      "[[[1, 2], [3, 4], [5, 6]], [[7], [8], [9]]]\n",
      "to\n",
      "[[[1, 2], [7]], [[3, 4], [8]], [[5, 6], [9]]]\n",
      "hypermatrix transposing succeed\n"
     ]
    }
   ],
   "source": [
    "succeed_all = True\n",
    "for x, true_tp in zip([hypermatrix_dataset_1,hypermatrix_dataset_2,hypermatrix_dataset_3],[hypermatrix_transpose_1,hypermatrix_transpose_2,hypermatrix_transpose_3]):\n",
    "    succeed_all = succeed_all & test_mytranspose(x,true_tp)\n",
    "if succeed_all:\n",
    "    print(\"hypermatrix transposing succeed\")"
   ],
   "metadata": {
    "collapsed": false,
    "ExecuteTime": {
     "start_time": "2023-04-05T14:19:59.515209Z",
     "end_time": "2023-04-05T14:19:59.564925Z"
    }
   }
  },
  {
   "cell_type": "code",
   "execution_count": 130,
   "outputs": [],
   "source": [
    "# Additional Work\n",
    "# Pandas implement of testmytranspose\n",
    "import numpy as np\n",
    "import pandas as pd"
   ],
   "metadata": {
    "collapsed": false,
    "ExecuteTime": {
     "start_time": "2023-04-05T14:19:59.559007Z",
     "end_time": "2023-04-05T14:19:59.565002Z"
    }
   }
  },
  {
   "cell_type": "code",
   "execution_count": 131,
   "outputs": [],
   "source": [
    "# dim test"
   ],
   "metadata": {
    "collapsed": false,
    "ExecuteTime": {
     "start_time": "2023-04-05T14:19:59.559118Z",
     "end_time": "2023-04-05T14:19:59.565030Z"
    }
   }
  },
  {
   "cell_type": "code",
   "execution_count": 132,
   "outputs": [],
   "source": [
    "pd_dimtest_example_1, pd_truedim_1 = pd.DataFrame(data=[[1,2],[3,4]]), [2,2]\n",
    "pd_dimtest_example_2, pd_truedim_2 = pd.DataFrame(data=[[\"a\",\"b\",\"c\"],[\"d\",\"e\",\"f\"]]), [2,3]\n",
    "pd_dimtest_example_3, pd_truedim_3 = pd.DataFrame(data=[[pd.NA],[pd.NA],[pd.NA]]), [3,1]\n",
    "pd_dimtest_example_4, pd_truedim_4 = pd.DataFrame(data=[[False]]), [1,1]"
   ],
   "metadata": {
    "collapsed": false,
    "ExecuteTime": {
     "start_time": "2023-04-05T14:19:59.559208Z",
     "end_time": "2023-04-05T14:19:59.577315Z"
    }
   }
  },
  {
   "cell_type": "code",
   "execution_count": 133,
   "outputs": [
    {
     "name": "stdout",
     "output_type": "stream",
     "text": [
      "   0  1\n",
      "0  1  2\n",
      "1  3  4\n",
      "has dimension\n",
      "[2, 2]\n",
      "succeed dimtest\n",
      "   0  1  2\n",
      "0  a  b  c\n",
      "1  d  e  f\n",
      "has dimension\n",
      "[2, 3]\n",
      "succeed dimtest\n",
      "      0\n",
      "0  <NA>\n",
      "1  <NA>\n",
      "2  <NA>\n",
      "has dimension\n",
      "[3, 1]\n",
      "succeed dimtest\n",
      "       0\n",
      "0  False\n",
      "has dimension\n",
      "[1, 1]\n",
      "succeed dimtest\n",
      "dimtest succeed\n"
     ]
    }
   ],
   "source": [
    "succeed_all = True\n",
    "for x, truedim in zip([pd_dimtest_example_1, pd_dimtest_example_2, pd_dimtest_example_3, pd_dimtest_example_4],[pd_truedim_1, pd_truedim_2, pd_truedim_3, pd_truedim_4]):\n",
    "    succeed_all = succeed_all & dimtest(x, truedim)\n",
    "if succeed_all:\n",
    "    print(\"dimtest succeed\")"
   ],
   "metadata": {
    "collapsed": false,
    "ExecuteTime": {
     "start_time": "2023-04-05T14:19:59.567257Z",
     "end_time": "2023-04-05T14:19:59.630641Z"
    }
   }
  },
  {
   "cell_type": "code",
   "execution_count": 134,
   "outputs": [],
   "source": [
    "# rectangular test\n",
    "# DataFrame is forced to be rectangular so no rectangular test needed"
   ],
   "metadata": {
    "collapsed": false,
    "ExecuteTime": {
     "start_time": "2023-04-05T14:19:59.593370Z",
     "end_time": "2023-04-05T14:19:59.647284Z"
    }
   }
  },
  {
   "cell_type": "code",
   "execution_count": 135,
   "outputs": [],
   "source": [
    "# pd transpose testing"
   ],
   "metadata": {
    "collapsed": false,
    "ExecuteTime": {
     "start_time": "2023-04-05T14:19:59.634919Z",
     "end_time": "2023-04-05T14:19:59.647552Z"
    }
   }
  },
  {
   "cell_type": "code",
   "execution_count": 136,
   "outputs": [],
   "source": [
    "def pd_test_mytranspose(x, true_tp)->bool:\n",
    "    my_tp = mytranspose(x)\n",
    "    success = ((my_tp==true_tp)|((my_tp != my_tp)&(true_tp != true_tp))).all(axis=None) # identical or nan in both\n",
    "    if success:\n",
    "        print(\"mytranspose successfully transposed\")\n",
    "        print(x)\n",
    "        print(\"to\")\n",
    "        print(my_tp)\n",
    "    else:\n",
    "        print(\"mytranspose failied to transpose\")\n",
    "        print(x)\n",
    "        print(\"to\")\n",
    "        print(true_tp)\n",
    "        print(\"instead\")\n",
    "        print(my_tp)\n",
    "        print(\"was obtained\")\n",
    "    return success"
   ],
   "metadata": {
    "collapsed": false,
    "ExecuteTime": {
     "start_time": "2023-04-05T14:19:59.635005Z",
     "end_time": "2023-04-05T14:19:59.647648Z"
    }
   }
  },
  {
   "cell_type": "code",
   "execution_count": 137,
   "outputs": [],
   "source": [
    "pd_dataset_1, pd_transpose_1 = pd.DataFrame([[None]]), pd.DataFrame([[None]])\n",
    "pd_dataset_2, pd_transpose_2 = pd.DataFrame([[pd.NA]]),pd.DataFrame(([pd.NA]))\n",
    "pd_dataset_3, pd_transpose_3 = pd.DataFrame([[1]]), pd.DataFrame([[1]])\n",
    "pd_dataset_4, pd_transpose_4 = pd.DataFrame([[True,True,False]], columns=[\"one\",\"two\",\"three\"],index=[100]), pd.DataFrame([[True],[True],[False]], columns=[100], index=[\"one\",\"two\",\"three\"])\n",
    "pd_dataset_5, pd_transpose_5 = pd.DataFrame([[1,2],[\"a\",\"b\"],[True,False]], columns=[\"First\",\"Second\"],index=[\"numeric\",\"string\",\"bool\"]), pd.DataFrame([[1,\"a\",True],[2,\"b\",False]],columns=[\"numeric\",\"string\",\"bool\"],index=[\"First\",\"Second\"])"
   ],
   "metadata": {
    "collapsed": false,
    "ExecuteTime": {
     "start_time": "2023-04-05T14:19:59.635114Z",
     "end_time": "2023-04-05T14:19:59.679136Z"
    }
   }
  },
  {
   "cell_type": "code",
   "execution_count": 138,
   "outputs": [
    {
     "name": "stdout",
     "output_type": "stream",
     "text": [
      "mytranspose successfully transposed\n",
      "      0\n",
      "0  None\n",
      "to\n",
      "      0\n",
      "0  None\n",
      "mytranspose successfully transposed\n",
      "      0\n",
      "0  <NA>\n",
      "to\n",
      "      0\n",
      "0  <NA>\n",
      "mytranspose successfully transposed\n",
      "   0\n",
      "0  1\n",
      "to\n",
      "   0\n",
      "0  1\n",
      "mytranspose successfully transposed\n",
      "      one   two  three\n",
      "100  True  True  False\n",
      "to\n",
      "         100\n",
      "one     True\n",
      "two     True\n",
      "three  False\n",
      "mytranspose successfully transposed\n",
      "        First Second\n",
      "numeric     1      2\n",
      "string      a      b\n",
      "bool     True  False\n",
      "to\n",
      "        numeric string   bool\n",
      "First         1      a   True\n",
      "Second        2      b  False\n",
      "dataframe transposing succeed\n"
     ]
    }
   ],
   "source": [
    "succeed_all = True\n",
    "for x, true_tp in zip([pd_dataset_1, pd_dataset_2, pd_dataset_3, pd_dataset_4, pd_dataset_5],[pd_transpose_1, pd_transpose_2, pd_transpose_3, pd_transpose_4, pd_transpose_5]):\n",
    "    succeed_all = succeed_all & pd_test_mytranspose(x, true_tp)\n",
    "if succeed_all:\n",
    "    print(\"dataframe transposing succeed\")"
   ],
   "metadata": {
    "collapsed": false,
    "ExecuteTime": {
     "start_time": "2023-04-05T14:19:59.679227Z",
     "end_time": "2023-04-05T14:19:59.679678Z"
    }
   }
  }
 ],
 "metadata": {
  "kernelspec": {
   "display_name": "Python 3",
   "language": "python",
   "name": "python3"
  },
  "language_info": {
   "codemirror_mode": {
    "name": "ipython",
    "version": 2
   },
   "file_extension": ".py",
   "mimetype": "text/x-python",
   "name": "python",
   "nbconvert_exporter": "python",
   "pygments_lexer": "ipython2",
   "version": "2.7.6"
  }
 },
 "nbformat": 4,
 "nbformat_minor": 0
}
