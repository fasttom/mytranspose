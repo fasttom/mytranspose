{
 "cells": [
  {
   "cell_type": "code",
   "execution_count": 21,
   "metadata": {
    "collapsed": true,
    "ExecuteTime": {
     "start_time": "2023-04-02T18:11:00.547980Z",
     "end_time": "2023-04-02T18:11:00.591524Z"
    }
   },
   "outputs": [],
   "source": [
    "from py3_mytranspose.mytranspose import *"
   ]
  },
  {
   "cell_type": "code",
   "execution_count": 22,
   "outputs": [],
   "source": [
    "import pandas as pd\n",
    "import numpy as np\n",
    "import torch"
   ],
   "metadata": {
    "collapsed": false,
    "ExecuteTime": {
     "start_time": "2023-04-02T18:11:01.232908Z",
     "end_time": "2023-04-02T18:11:01.237332Z"
    }
   }
  },
  {
   "cell_type": "code",
   "execution_count": 23,
   "outputs": [],
   "source": [
    "# testing unit\n",
    "def test_mytranspose(x):\n",
    "    mytp = mytranspose(x)\n",
    "    tp = np.transpose(x)\n",
    "    success = np.alltrue(np.equal(mytp,tp))\n",
    "    if success:\n",
    "        print(\"mytraspose successfully transpose \")\n",
    "        print(x)\n",
    "        print(\"into\")\n",
    "        print(mytp)\n",
    "        print()\n",
    "    else:\n",
    "        print(\"falied to transpose\")\n",
    "        print(x)\n",
    "        print(tp)\n",
    "        print(\"should have been obtained. but\")\n",
    "        print(mytp)\n",
    "        print(\"was obtained\")\n",
    "        print(\"\")\n",
    "    return success\n"
   ],
   "metadata": {
    "collapsed": false,
    "ExecuteTime": {
     "start_time": "2023-04-02T18:11:01.692287Z",
     "end_time": "2023-04-02T18:11:01.698774Z"
    }
   }
  },
  {
   "cell_type": "code",
   "execution_count": 24,
   "outputs": [],
   "source": [
    "# dataset null\n",
    "null_1 = None # null scalar\n",
    "null_2 = [] # empty list\n",
    "null_3 = np.array([]) # empty array\n",
    "null_4 = torch.Tensor() # empty tensor"
   ],
   "metadata": {
    "collapsed": false,
    "ExecuteTime": {
     "start_time": "2023-04-02T18:11:02.224665Z",
     "end_time": "2023-04-02T18:11:02.231205Z"
    }
   }
  },
  {
   "cell_type": "code",
   "execution_count": 25,
   "outputs": [
    {
     "name": "stdout",
     "output_type": "stream",
     "text": [
      "testing if null is converted successfully\n",
      "Cannot transpose input\n",
      "input should be null or 1+ dimension rectangular numeric, list, array, dataframe, tensor\n",
      "returning itself\n",
      "mytraspose successfully transpose \n",
      "None\n",
      "into\n",
      "None\n",
      "\n"
     ]
    },
    {
     "ename": "RecursionError",
     "evalue": "maximum recursion depth exceeded",
     "output_type": "error",
     "traceback": [
      "\u001B[0;31m---------------------------------------------------------------------------\u001B[0m",
      "\u001B[0;31mRecursionError\u001B[0m                            Traceback (most recent call last)",
      "Cell \u001B[0;32mIn[25], line 5\u001B[0m\n\u001B[1;32m      3\u001B[0m successed_all \u001B[38;5;241m=\u001B[39m \u001B[38;5;28;01mTrue\u001B[39;00m\n\u001B[1;32m      4\u001B[0m \u001B[38;5;28;01mfor\u001B[39;00m x \u001B[38;5;129;01min\u001B[39;00m [null_1,null_2,null_3,null_4]:\n\u001B[0;32m----> 5\u001B[0m     successed \u001B[38;5;241m=\u001B[39m \u001B[43mtest_mytranspose\u001B[49m\u001B[43m(\u001B[49m\u001B[43mx\u001B[49m\u001B[43m)\u001B[49m\n\u001B[1;32m      6\u001B[0m     successed_all \u001B[38;5;241m=\u001B[39m successed_all \u001B[38;5;241m&\u001B[39m successed\n\u001B[1;32m      7\u001B[0m \u001B[38;5;28;01mif\u001B[39;00m successed_all:\n",
      "Cell \u001B[0;32mIn[23], line 3\u001B[0m, in \u001B[0;36mtest_mytranspose\u001B[0;34m(x)\u001B[0m\n\u001B[1;32m      2\u001B[0m \u001B[38;5;28;01mdef\u001B[39;00m \u001B[38;5;21mtest_mytranspose\u001B[39m(x):\n\u001B[0;32m----> 3\u001B[0m     mytp \u001B[38;5;241m=\u001B[39m \u001B[43mmytranspose\u001B[49m\u001B[43m(\u001B[49m\u001B[43mx\u001B[49m\u001B[43m)\u001B[49m\n\u001B[1;32m      4\u001B[0m     tp \u001B[38;5;241m=\u001B[39m np\u001B[38;5;241m.\u001B[39mtranspose(x)\n\u001B[1;32m      5\u001B[0m     success \u001B[38;5;241m=\u001B[39m np\u001B[38;5;241m.\u001B[39malltrue(np\u001B[38;5;241m.\u001B[39mequal(mytp,tp))\n",
      "File \u001B[0;32m~/DataspellProjects/mytranspose/py3_mytranspose/mytranspose.py:68\u001B[0m, in \u001B[0;36mmytranspose\u001B[0;34m(x)\u001B[0m\n\u001B[1;32m     67\u001B[0m \u001B[38;5;28;01mdef\u001B[39;00m \u001B[38;5;21mmytranspose\u001B[39m(x):\n\u001B[0;32m---> 68\u001B[0m     can_transpose \u001B[38;5;241m=\u001B[39m \u001B[43mcheck_rectangular\u001B[49m\u001B[43m(\u001B[49m\u001B[43mx\u001B[49m\u001B[43m)\u001B[49m\n\u001B[1;32m     69\u001B[0m     \u001B[38;5;28;01mif\u001B[39;00m can_transpose:\n\u001B[1;32m     70\u001B[0m         dim_x \u001B[38;5;241m=\u001B[39m dim(x)\n",
      "File \u001B[0;32m~/DataspellProjects/mytranspose/py3_mytranspose/mytranspose.py:16\u001B[0m, in \u001B[0;36mcheck_rectangular\u001B[0;34m(x)\u001B[0m\n\u001B[1;32m     14\u001B[0m     is_rectangular \u001B[38;5;241m=\u001B[39m \u001B[38;5;28;01mFalse\u001B[39;00m\n\u001B[1;32m     15\u001B[0m \u001B[38;5;66;03m# null case or element\u001B[39;00m\n\u001B[0;32m---> 16\u001B[0m \u001B[38;5;28;01melif\u001B[39;00m \u001B[38;5;28mlen\u001B[39m(\u001B[43mdim\u001B[49m\u001B[43m(\u001B[49m\u001B[43mx\u001B[49m\u001B[43m)\u001B[49m) \u001B[38;5;241m==\u001B[39m \u001B[38;5;241m0\u001B[39m:\n\u001B[1;32m     17\u001B[0m     is_rectangular \u001B[38;5;241m=\u001B[39m \u001B[38;5;28;01mTrue\u001B[39;00m\n\u001B[1;32m     18\u001B[0m \u001B[38;5;66;03m# 1d list case\u001B[39;00m\n",
      "File \u001B[0;32m~/DataspellProjects/mytranspose/py3_mytranspose/mytranspose.py:8\u001B[0m, in \u001B[0;36mdim\u001B[0;34m(x)\u001B[0m\n\u001B[1;32m      6\u001B[0m \u001B[38;5;28;01mif\u001B[39;00m \u001B[38;5;129;01mnot\u001B[39;00m \u001B[38;5;28mtype\u001B[39m(x) \u001B[38;5;129;01min\u001B[39;00m [\u001B[38;5;28mlist\u001B[39m, pd\u001B[38;5;241m.\u001B[39mDataFrame, np\u001B[38;5;241m.\u001B[39mndarray, torch\u001B[38;5;241m.\u001B[39mTensor]:\n\u001B[1;32m      7\u001B[0m     \u001B[38;5;28;01mreturn\u001B[39;00m []\n\u001B[0;32m----> 8\u001B[0m \u001B[38;5;28;01mreturn\u001B[39;00m \u001B[43mdim\u001B[49m\u001B[43m(\u001B[49m\u001B[43mx\u001B[49m\u001B[43m)\u001B[49m\u001B[38;5;241m+\u001B[39mdim(x[\u001B[38;5;241m0\u001B[39m])\n",
      "File \u001B[0;32m~/DataspellProjects/mytranspose/py3_mytranspose/mytranspose.py:8\u001B[0m, in \u001B[0;36mdim\u001B[0;34m(x)\u001B[0m\n\u001B[1;32m      6\u001B[0m \u001B[38;5;28;01mif\u001B[39;00m \u001B[38;5;129;01mnot\u001B[39;00m \u001B[38;5;28mtype\u001B[39m(x) \u001B[38;5;129;01min\u001B[39;00m [\u001B[38;5;28mlist\u001B[39m, pd\u001B[38;5;241m.\u001B[39mDataFrame, np\u001B[38;5;241m.\u001B[39mndarray, torch\u001B[38;5;241m.\u001B[39mTensor]:\n\u001B[1;32m      7\u001B[0m     \u001B[38;5;28;01mreturn\u001B[39;00m []\n\u001B[0;32m----> 8\u001B[0m \u001B[38;5;28;01mreturn\u001B[39;00m \u001B[43mdim\u001B[49m\u001B[43m(\u001B[49m\u001B[43mx\u001B[49m\u001B[43m)\u001B[49m\u001B[38;5;241m+\u001B[39mdim(x[\u001B[38;5;241m0\u001B[39m])\n",
      "    \u001B[0;31m[... skipping similar frames: dim at line 8 (2967 times)]\u001B[0m\n",
      "File \u001B[0;32m~/DataspellProjects/mytranspose/py3_mytranspose/mytranspose.py:8\u001B[0m, in \u001B[0;36mdim\u001B[0;34m(x)\u001B[0m\n\u001B[1;32m      6\u001B[0m \u001B[38;5;28;01mif\u001B[39;00m \u001B[38;5;129;01mnot\u001B[39;00m \u001B[38;5;28mtype\u001B[39m(x) \u001B[38;5;129;01min\u001B[39;00m [\u001B[38;5;28mlist\u001B[39m, pd\u001B[38;5;241m.\u001B[39mDataFrame, np\u001B[38;5;241m.\u001B[39mndarray, torch\u001B[38;5;241m.\u001B[39mTensor]:\n\u001B[1;32m      7\u001B[0m     \u001B[38;5;28;01mreturn\u001B[39;00m []\n\u001B[0;32m----> 8\u001B[0m \u001B[38;5;28;01mreturn\u001B[39;00m \u001B[43mdim\u001B[49m\u001B[43m(\u001B[49m\u001B[43mx\u001B[49m\u001B[43m)\u001B[49m\u001B[38;5;241m+\u001B[39mdim(x[\u001B[38;5;241m0\u001B[39m])\n",
      "\u001B[0;31mRecursionError\u001B[0m: maximum recursion depth exceeded"
     ]
    }
   ],
   "source": [
    "# testing null case\n",
    "print(\"testing if null is converted successfully\")\n",
    "successed_all = True\n",
    "for x in [null_1,null_2,null_3,null_4]:\n",
    "    successed = test_mytranspose(x)\n",
    "    successed_all = successed_all & successed\n",
    "if successed_all:\n",
    "    (\"function mytranspose can transpose null\")\n"
   ],
   "metadata": {
    "collapsed": false,
    "ExecuteTime": {
     "start_time": "2023-04-01T19:37:14.408890Z",
     "end_time": "2023-04-01T19:37:14.416386Z"
    }
   }
  },
  {
   "cell_type": "code",
   "execution_count": null,
   "outputs": [],
   "source": [],
   "metadata": {
    "collapsed": false
   }
  },
  {
   "cell_type": "code",
   "execution_count": null,
   "outputs": [],
   "source": [],
   "metadata": {
    "collapsed": false
   }
  }
 ],
 "metadata": {
  "kernelspec": {
   "display_name": "Python 3",
   "language": "python",
   "name": "python3"
  },
  "language_info": {
   "codemirror_mode": {
    "name": "ipython",
    "version": 2
   },
   "file_extension": ".py",
   "mimetype": "text/x-python",
   "name": "python",
   "nbconvert_exporter": "python",
   "pygments_lexer": "ipython2",
   "version": "2.7.6"
  }
 },
 "nbformat": 4,
 "nbformat_minor": 0
}
