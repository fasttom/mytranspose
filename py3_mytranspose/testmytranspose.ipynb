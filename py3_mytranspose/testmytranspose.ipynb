{
 "cells": [
  {
   "cell_type": "code",
   "execution_count": 1,
   "outputs": [],
   "source": [
    "from mytranspose import *"
   ],
   "metadata": {
    "collapsed": false,
    "ExecuteTime": {
     "start_time": "2023-04-06T14:36:04.995812Z",
     "end_time": "2023-04-06T14:36:05.052347Z"
    }
   }
  },
  {
   "cell_type": "code",
   "execution_count": 2,
   "outputs": [],
   "source": [
    "# dimension testing"
   ],
   "metadata": {
    "collapsed": false,
    "ExecuteTime": {
     "start_time": "2023-04-06T14:36:05.053644Z",
     "end_time": "2023-04-06T14:36:05.056309Z"
    }
   }
  },
  {
   "cell_type": "code",
   "execution_count": 3,
   "outputs": [],
   "source": [
    "def dimtest(x, true_dim)->bool:\n",
    "    my_dim = dim(x)\n",
    "    success = (my_dim == true_dim)\n",
    "    if success:\n",
    "        print(x)\n",
    "        print(\"has dimension\")\n",
    "        print(true_dim)\n",
    "        print(\"succeed dimtest\")\n",
    "    else:\n",
    "        print(x)\n",
    "        print(\"has dimension\")\n",
    "        print(true_dim, \" but we got \", my_dim)\n",
    "    return success"
   ],
   "metadata": {
    "collapsed": false,
    "ExecuteTime": {
     "start_time": "2023-04-06T14:36:05.057506Z",
     "end_time": "2023-04-06T14:36:05.084893Z"
    }
   }
  },
  {
   "cell_type": "code",
   "execution_count": 4,
   "outputs": [],
   "source": [
    "dimtest_example_none, truedim_none = None, []\n",
    "dimtest_example_0d, truedim_0d = \"This is a scalar\", []\n",
    "dimtest_example_1d, truedim_1d = [\"This\",\"is\", \"a\", \"vector\"], [4]\n",
    "dimtest_example_2d, truedim_2d =[[\"This\",\"is\"], [\"a\", \"matrix\"],[\"of\",\"strings\"]], [3,2]\n",
    "dimtest_example_3d, truedim_3d = [[[\"This\",\"is\"], [\"a\", \"hypermatrix\"],[\"of\",\"strings\"]], [[\"which\",\"has\"], [\"shape\", \"2\"],[\"3\",\"2\"]]], [2,3,2]"
   ],
   "metadata": {
    "collapsed": false,
    "ExecuteTime": {
     "start_time": "2023-04-06T14:36:05.077012Z",
     "end_time": "2023-04-06T14:36:05.100704Z"
    }
   }
  },
  {
   "cell_type": "code",
   "execution_count": 5,
   "outputs": [
    {
     "name": "stdout",
     "output_type": "stream",
     "text": [
      "None\n",
      "has dimension\n",
      "[]\n",
      "succeed dimtest\n",
      "This is a scalar\n",
      "has dimension\n",
      "[]\n",
      "succeed dimtest\n",
      "['This', 'is', 'a', 'vector']\n",
      "has dimension\n",
      "[4]\n",
      "succeed dimtest\n",
      "[['This', 'is'], ['a', 'matrix'], ['of', 'strings']]\n",
      "has dimension\n",
      "[3, 2]\n",
      "succeed dimtest\n",
      "[[['This', 'is'], ['a', 'hypermatrix'], ['of', 'strings']], [['which', 'has'], ['shape', '2'], ['3', '2']]]\n",
      "has dimension\n",
      "[2, 3, 2]\n",
      "succeed dimtest\n",
      "dimtest succeed\n"
     ]
    }
   ],
   "source": [
    "succeed_all = True\n",
    "for x, truedim in zip([dimtest_example_none, dimtest_example_0d, dimtest_example_1d, dimtest_example_2d, dimtest_example_3d],[truedim_none, truedim_0d, truedim_1d, truedim_2d, truedim_3d]):\n",
    "    succeed_all = succeed_all & dimtest(x, truedim)\n",
    "if succeed_all:\n",
    "    print(\"dimtest succeed\")"
   ],
   "metadata": {
    "collapsed": false,
    "ExecuteTime": {
     "start_time": "2023-04-06T14:36:05.099758Z",
     "end_time": "2023-04-06T14:36:05.144398Z"
    }
   }
  },
  {
   "cell_type": "code",
   "execution_count": 6,
   "outputs": [],
   "source": [
    "# rectangular testing"
   ],
   "metadata": {
    "collapsed": false,
    "ExecuteTime": {
     "start_time": "2023-04-06T14:36:05.143977Z",
     "end_time": "2023-04-06T14:36:05.188307Z"
    }
   }
  },
  {
   "cell_type": "code",
   "execution_count": 7,
   "outputs": [],
   "source": [
    "def rectangular_test(x, true_rectangular:bool)->bool:\n",
    "    my_rectangular = is_rectangular(x)\n",
    "    success = (my_rectangular == true_rectangular)\n",
    "    if success:\n",
    "        print(x)\n",
    "        if true_rectangular:\n",
    "            print(\"is rectangular\")\n",
    "        else:\n",
    "            print(\"is not rectangular\")\n",
    "        print(\"succeed rectangular test\")\n",
    "    else:\n",
    "        print(x)\n",
    "        if true_rectangular:\n",
    "            print(\"is rectangular. But we got result that x is not rectangular\")\n",
    "        else:\n",
    "            print(\"is not rectangular. But we got result that x is rectangular\")\n",
    "    return success"
   ],
   "metadata": {
    "collapsed": false,
    "ExecuteTime": {
     "start_time": "2023-04-06T14:36:05.187818Z",
     "end_time": "2023-04-06T14:36:05.188526Z"
    }
   }
  },
  {
   "cell_type": "code",
   "execution_count": 8,
   "outputs": [],
   "source": [
    "rectest_example_true_none, rectest_label_none = None, True # []\n",
    "rectest_example_true_0d, rectest_label_true_0d = 1234, True # []\n",
    "rectest_example_true_1d, rectest_label_true_1d = [1,2,3,4], True # [4]\n",
    "rectest_example_true_2d, rectest_label_true_2d = [[1,2,3],[4,5,6]], True # [2,3]\n",
    "rectest_example_false_2d, rectest_label_false_2d = [[1,2],[3,4,5]], False # [2,?]\n",
    "rectest_example_true_3d, rectest_label_true_3d = [[[1,2,3],[4,5,6],[7,8,9]],[[1,2],[3,4],[5,6]]], True # [2,3,?]\n",
    "rectest_example_false_3d, rectest_label_false_3d = [[[1,2,3],[4,5,6],[7,8,9]],[[1,2,3],[4,5,6]]], False # [2,?,3]"
   ],
   "metadata": {
    "collapsed": false,
    "ExecuteTime": {
     "start_time": "2023-04-06T14:36:05.187890Z",
     "end_time": "2023-04-06T14:36:05.188659Z"
    }
   }
  },
  {
   "cell_type": "code",
   "execution_count": 9,
   "outputs": [
    {
     "name": "stdout",
     "output_type": "stream",
     "text": [
      "None\n",
      "is rectangular\n",
      "succeed rectangular test\n",
      "1234\n",
      "is rectangular\n",
      "succeed rectangular test\n",
      "[1, 2, 3, 4]\n",
      "is rectangular\n",
      "succeed rectangular test\n",
      "[[1, 2, 3], [4, 5, 6]]\n",
      "is rectangular\n",
      "succeed rectangular test\n",
      "[[[1, 2, 3], [4, 5, 6], [7, 8, 9]], [[1, 2], [3, 4], [5, 6]]]\n",
      "is rectangular\n",
      "succeed rectangular test\n",
      "[[1, 2], [3, 4, 5]]\n",
      "is not rectangular\n",
      "succeed rectangular test\n",
      "[[[1, 2, 3], [4, 5, 6], [7, 8, 9]], [[1, 2, 3], [4, 5, 6]]]\n",
      "is not rectangular\n",
      "succeed rectangular test\n",
      "rectangular_test succeed\n"
     ]
    }
   ],
   "source": [
    "succeed_all = True\n",
    "for x, true_rectangular in zip([rectest_example_true_none,rectest_example_true_0d,rectest_example_true_1d,rectest_example_true_2d,rectest_example_true_3d,rectest_example_false_2d,rectest_example_false_3d],\n",
    "        [rectest_label_none,rectest_label_true_0d,rectest_label_true_1d,rectest_label_true_2d,rectest_label_true_3d,rectest_label_false_2d,rectest_label_false_3d]):\n",
    "    succeed_all = succeed_all & rectangular_test(x, true_rectangular)\n",
    "if succeed_all:\n",
    "    print(\"rectangular_test succeed\")"
   ],
   "metadata": {
    "collapsed": false,
    "ExecuteTime": {
     "start_time": "2023-04-06T14:36:05.187946Z",
     "end_time": "2023-04-06T14:36:05.236092Z"
    }
   }
  },
  {
   "cell_type": "code",
   "execution_count": 10,
   "outputs": [],
   "source": [
    "#my_transpose testing"
   ],
   "metadata": {
    "collapsed": false,
    "ExecuteTime": {
     "start_time": "2023-04-06T14:36:05.231842Z",
     "end_time": "2023-04-06T14:36:05.236229Z"
    }
   }
  },
  {
   "cell_type": "code",
   "execution_count": 11,
   "outputs": [],
   "source": [
    "def test_mytranspose(x, true_tp)->bool:\n",
    "    my_tp = mytranspose(x)\n",
    "    success = (my_tp==true_tp)\n",
    "    if success:\n",
    "        print(\"mytranspose successfully transposed\")\n",
    "        print(x)\n",
    "        print(\"to\")\n",
    "        print(my_tp)\n",
    "    else:\n",
    "        print(\"mytranspose failied to transpose\")\n",
    "        print(x)\n",
    "        print(\"to\")\n",
    "        print(true_tp)\n",
    "        print(\"instead\")\n",
    "        print(my_tp)\n",
    "        print(\"was obtained\")\n",
    "    return success"
   ],
   "metadata": {
    "collapsed": false,
    "ExecuteTime": {
     "start_time": "2023-04-06T14:36:05.231914Z",
     "end_time": "2023-04-06T14:36:05.236294Z"
    }
   }
  },
  {
   "cell_type": "code",
   "execution_count": 12,
   "outputs": [],
   "source": [
    "# null testing"
   ],
   "metadata": {
    "collapsed": false,
    "ExecuteTime": {
     "start_time": "2023-04-06T14:36:05.231956Z",
     "end_time": "2023-04-06T14:36:05.249055Z"
    }
   }
  },
  {
   "cell_type": "code",
   "execution_count": 13,
   "outputs": [],
   "source": [
    "null_dataset_1, null_transpose_1 = None, None"
   ],
   "metadata": {
    "collapsed": false,
    "ExecuteTime": {
     "start_time": "2023-04-06T14:36:05.249440Z",
     "end_time": "2023-04-06T14:36:05.274100Z"
    }
   }
  },
  {
   "cell_type": "code",
   "execution_count": 14,
   "outputs": [
    {
     "name": "stdout",
     "output_type": "stream",
     "text": [
      "mytranspose successfully transposed\n",
      "None\n",
      "to\n",
      "None\n",
      "null transposing succeed\n"
     ]
    }
   ],
   "source": [
    "succeed_all = True\n",
    "for x, true_tp in zip([null_dataset_1],[null_transpose_1]):\n",
    "    succeed_all = succeed_all & test_mytranspose(x, true_tp)\n",
    "if succeed_all:\n",
    "    print(\"null transposing succeed\")"
   ],
   "metadata": {
    "collapsed": false,
    "ExecuteTime": {
     "start_time": "2023-04-06T14:36:05.262186Z",
     "end_time": "2023-04-06T14:36:05.281698Z"
    }
   }
  },
  {
   "cell_type": "code",
   "execution_count": 15,
   "outputs": [],
   "source": [
    "# scalar testing"
   ],
   "metadata": {
    "collapsed": false,
    "ExecuteTime": {
     "start_time": "2023-04-06T14:36:05.278992Z",
     "end_time": "2023-04-06T14:36:05.324149Z"
    }
   }
  },
  {
   "cell_type": "code",
   "execution_count": 16,
   "outputs": [],
   "source": [
    "scalar_dataset_1, scalar_transpose_1 = \"string scalar\", \"string scalar\"\n",
    "scalar_dataset_2, scalar_transpose_2 = 1234, 1234"
   ],
   "metadata": {
    "collapsed": false,
    "ExecuteTime": {
     "start_time": "2023-04-06T14:36:05.323962Z",
     "end_time": "2023-04-06T14:36:05.324373Z"
    }
   }
  },
  {
   "cell_type": "code",
   "execution_count": 17,
   "outputs": [
    {
     "name": "stdout",
     "output_type": "stream",
     "text": [
      "mytranspose successfully transposed\n",
      "string scalar\n",
      "to\n",
      "string scalar\n",
      "mytranspose successfully transposed\n",
      "1234\n",
      "to\n",
      "1234\n",
      "scalar transposing succeed\n"
     ]
    }
   ],
   "source": [
    "succeed_all = True\n",
    "for x, true_tp in zip([scalar_dataset_1,scalar_dataset_2],[scalar_transpose_1,scalar_transpose_2]):\n",
    "    succeed_all = succeed_all & test_mytranspose(x,true_tp)\n",
    "if succeed_all:\n",
    "    print(\"scalar transposing succeed\")"
   ],
   "metadata": {
    "collapsed": false,
    "ExecuteTime": {
     "start_time": "2023-04-06T14:36:05.324052Z",
     "end_time": "2023-04-06T14:36:05.368944Z"
    }
   }
  },
  {
   "cell_type": "code",
   "execution_count": 18,
   "outputs": [],
   "source": [
    "# vector testing"
   ],
   "metadata": {
    "collapsed": false,
    "ExecuteTime": {
     "start_time": "2023-04-06T14:36:05.368079Z",
     "end_time": "2023-04-06T14:36:05.369069Z"
    }
   }
  },
  {
   "cell_type": "code",
   "execution_count": 19,
   "outputs": [],
   "source": [
    "vector_dataset_1, vector_transpose_1 = [\"string\",\"vector\"], [\"string\",\"vector\"]\n",
    "vector_dataset_2, vector_transpose_2 = [1,2,3,4], [1,2,3,4]\n",
    "vector_dataset_3, vector_transpose_3 = [\"mixed\", \"vector\", 1, 2], [\"mixed\", \"vector\", 1, 2]"
   ],
   "metadata": {
    "collapsed": false,
    "ExecuteTime": {
     "start_time": "2023-04-06T14:36:05.368159Z",
     "end_time": "2023-04-06T14:36:05.369128Z"
    }
   }
  },
  {
   "cell_type": "code",
   "execution_count": 20,
   "outputs": [
    {
     "name": "stdout",
     "output_type": "stream",
     "text": [
      "mytranspose successfully transposed\n",
      "['string', 'vector']\n",
      "to\n",
      "['string', 'vector']\n",
      "mytranspose successfully transposed\n",
      "[1, 2, 3, 4]\n",
      "to\n",
      "[1, 2, 3, 4]\n",
      "mytranspose successfully transposed\n",
      "['mixed', 'vector', 1, 2]\n",
      "to\n",
      "['mixed', 'vector', 1, 2]\n",
      "vector transposing succeed\n"
     ]
    }
   ],
   "source": [
    "succeed_all = True\n",
    "for x, true_tp in zip([vector_dataset_1,vector_dataset_2,vector_dataset_3],[vector_transpose_1,vector_transpose_2,vector_transpose_3]):\n",
    "    succeed_all = succeed_all & test_mytranspose(x, true_tp)\n",
    "if succeed_all:\n",
    "    print(\"vector transposing succeed\")"
   ],
   "metadata": {
    "collapsed": false,
    "ExecuteTime": {
     "start_time": "2023-04-06T14:36:05.368233Z",
     "end_time": "2023-04-06T14:36:05.412785Z"
    }
   }
  },
  {
   "cell_type": "code",
   "execution_count": 21,
   "outputs": [],
   "source": [
    "# matraix testing"
   ],
   "metadata": {
    "collapsed": false,
    "ExecuteTime": {
     "start_time": "2023-04-06T14:36:05.411876Z",
     "end_time": "2023-04-06T14:36:05.412882Z"
    }
   }
  },
  {
   "cell_type": "code",
   "execution_count": 22,
   "outputs": [],
   "source": [
    "matrix_dataset_1, matrix_transpose_1 = [[\"string\", \"matrix\"],[\"my\",\"transpose\"]], [[\"string\",\"my\"],[\"matrix\",\"transpose\"]]\n",
    "matrix_dataset_2, matrix_transpose_2 = [[1,2,3],[4,5,6]], [[1,4],[2,5],[3,6]]\n",
    "matrix_dataset_3, matrix_transpose_3 = [[\"scalar\",\"matrix\",1,2],[\"numeric\",\"matrix\",1,2]], [[\"scalar\",\"numeric\"],[\"matrix\",\"matrix\"],[1,1],[2,2]]"
   ],
   "metadata": {
    "collapsed": false,
    "ExecuteTime": {
     "start_time": "2023-04-06T14:36:05.411963Z",
     "end_time": "2023-04-06T14:36:05.426929Z"
    }
   }
  },
  {
   "cell_type": "code",
   "execution_count": 23,
   "outputs": [
    {
     "name": "stdout",
     "output_type": "stream",
     "text": [
      "mytranspose successfully transposed\n",
      "[['string', 'matrix'], ['my', 'transpose']]\n",
      "to\n",
      "[['string', 'my'], ['matrix', 'transpose']]\n",
      "mytranspose successfully transposed\n",
      "[[1, 2, 3], [4, 5, 6]]\n",
      "to\n",
      "[[1, 4], [2, 5], [3, 6]]\n",
      "mytranspose successfully transposed\n",
      "[['scalar', 'matrix', 1, 2], ['numeric', 'matrix', 1, 2]]\n",
      "to\n",
      "[['scalar', 'numeric'], ['matrix', 'matrix'], [1, 1], [2, 2]]\n",
      "matrix transposing succeed\n"
     ]
    }
   ],
   "source": [
    "succeed_all = True\n",
    "for x, true_tp in zip([matrix_dataset_1,matrix_dataset_2,matrix_dataset_3],[matrix_transpose_1,matrix_transpose_2,matrix_transpose_3]):\n",
    "    succeed_all = succeed_all & test_mytranspose(x, true_tp)\n",
    "if succeed_all:\n",
    "    print(\"matrix transposing succeed\")"
   ],
   "metadata": {
    "collapsed": false,
    "ExecuteTime": {
     "start_time": "2023-04-06T15:18:35.019871Z",
     "end_time": "2023-04-06T15:18:35.147330Z"
    }
   }
  },
  {
   "cell_type": "code",
   "execution_count": 24,

   "outputs": [],
   "source": [
    "hypermatrix_dataset_1, hypermatrix_transpose_1 = [[[1,2],[3,4]],[[5,6],[7,8]]], [[[1,2],[5,6]],[[3,4],[7,8]]]\n",
    "hypermatrix_dataset_2, hypermatrix_transpose_2 = [[[\"string\",\"hyper\"],[\"matrix\",\"transpose\"]],[[\"testing\",\"should\"],[\"be\",\"successful\"]]],[[[\"string\",\"hyper\"],[\"testing\",\"should\"]],[[\"matrix\",\"transpose\"],[\"be\",\"successful\"]]]\n",
    "hypermatrix_dataset_3, hypermatrix_transpose_3 = [[[1,2],[3,4],[5,6]],[[7],[8],[9]]], [[[1,2],[7]],[[3,4],[8]],[[5,6],[9]]]"
   ],
   "metadata": {
    "collapsed": false,
    "ExecuteTime": {
     "start_time": "2023-04-06T14:36:05.519802Z",
     "end_time": "2023-04-06T14:36:05.520227Z"
    }
   }
  },
  {
   "cell_type": "code",
   "execution_count": 26,
   "outputs": [
    {
     "name": "stdout",
     "output_type": "stream",
     "text": [
      "mytranspose successfully transposed\n",
      "[[[1, 2], [3, 4]], [[5, 6], [7, 8]]]\n",
      "to\n",
      "[[[1, 2], [5, 6]], [[3, 4], [7, 8]]]\n",
      "mytranspose successfully transposed\n",
      "[[['string', 'hyper'], ['matrix', 'transpose']], [['testing', 'should'], ['be', 'successful']]]\n",
      "to\n",
      "[[['string', 'hyper'], ['testing', 'should']], [['matrix', 'transpose'], ['be', 'successful']]]\n",
      "mytranspose successfully transposed\n",
      "[[[1, 2], [3, 4], [5, 6]], [[7], [8], [9]]]\n",
      "to\n",
      "[[[1, 2], [7]], [[3, 4], [8]], [[5, 6], [9]]]\n",
      "hypermatrix transposing succeed\n"
     ]
    }
   ],
   "source": [
    "succeed_all = True\n",
    "for x, true_tp in zip([hypermatrix_dataset_1,hypermatrix_dataset_2,hypermatrix_dataset_3],[hypermatrix_transpose_1,hypermatrix_transpose_2,hypermatrix_transpose_3]):\n",
    "    succeed_all = succeed_all & test_mytranspose(x,true_tp)\n",
    "if succeed_all:\n",
    "    print(\"hypermatrix transposing succeed\")"
   ],
   "metadata": {
    "collapsed": false,
    "ExecuteTime": {
     "start_time": "2023-04-06T14:36:05.519999Z",
     "end_time": "2023-04-06T14:36:05.520742Z"
    }
   }
  },
  {
   "cell_type": "code",
   "execution_count": 26,
   "outputs": [],
   "source": [
    "# Additional Work\n",
    "# Numpy implement of testmytranspose\n",
    "import numpy as np"
   ],
   "metadata": {
    "collapsed": false,
    "ExecuteTime": {
     "start_time": "2023-04-06T14:36:05.567846Z",
     "end_time": "2023-04-06T14:36:05.568267Z"
    }
   }
  },
  {
   "cell_type": "code",
   "execution_count": 29,
   "outputs": [],
   "source": [
    "# dim test"
   ],
   "metadata": {
    "collapsed": false,
    "ExecuteTime": {
     "start_time": "2023-04-06T14:36:05.568044Z",
     "end_time": "2023-04-06T14:36:05.568464Z"
    }
   }
  },
  {
   "cell_type": "code",
   "execution_count": 30,
   "outputs": [
    {
     "name": "stderr",
     "output_type": "stream",
     "text": [
      "/tmp/ipykernel_6589/179530117.py:2: DeprecationWarning: `np.complex` is a deprecated alias for the builtin `complex`. To silence this warning, use `complex` by itself. Doing this will not modify any behavior and is safe. If you specifically wanted the numpy scalar type, use `np.complex128` here.\n",
      "Deprecated in NumPy 1.20; for more details and guidance: https://numpy.org/devdocs/release/1.20.0-notes.html#deprecations\n",
      "  np_dimtest_example_0d, np_truedim_0d = np.complex(1,2), []\n"
     ]
    }
   ],
   "source": [
    "np_dimtest_example_none, np_truedim_none = np.nan, []\n",
    "np_dimtest_example_0d, np_truedim_0d = np.complex(1,2), []\n",
    "np_dimtest_example_1d, np_truedim_1d = np.array([1,2,3,4]), [4]\n",
    "np_dimtest_example_2d, np_truedim_2d = np.array([[1,2,3],[4,5,6]]), [2,3]\n",
    "np_dimtest_example_3d, np_truedim_3d = np.array([[[1,2,3],[4,5,6]],[[7,8,9],[10,11,12]]]), [2,2,3]"
   ],
   "metadata": {
    "collapsed": false,
    "ExecuteTime": {
     "start_time": "2023-04-06T14:36:05.568174Z",
     "end_time": "2023-04-06T14:36:05.572296Z"
    }
   }
  },
  {
   "cell_type": "code",
   "execution_count": 31,
   "outputs": [
    {
     "name": "stdout",
     "output_type": "stream",
     "text": [
      "nan\n",
      "has dimension\n",
      "[]\n",
      "succeed dimtest\n",
      "(1+2j)\n",
      "has dimension\n",
      "[]\n",
      "succeed dimtest\n",
      "[1 2 3 4]\n",
      "has dimension\n",
      "[4]\n",
      "succeed dimtest\n",
      "[[1 2 3]\n",
      " [4 5 6]]\n",
      "has dimension\n",
      "[2, 3]\n",
      "succeed dimtest\n",
      "[[[ 1  2  3]\n",
      "  [ 4  5  6]]\n",
      "\n",
      " [[ 7  8  9]\n",
      "  [10 11 12]]]\n",
      "has dimension\n",
      "[2, 2, 3]\n",
      "succeed dimtest\n",
      "dimtest succeed\n"
     ]
    }
   ],
   "source": [
    "succeed_all = True\n",
    "for x, truedim in zip([np_dimtest_example_none, np_dimtest_example_0d, np_dimtest_example_1d, np_dimtest_example_2d, np_dimtest_example_3d],[np_truedim_none, np_truedim_0d, np_truedim_1d, np_truedim_2d, np_truedim_3d]):\n",
    "    succeed_all = succeed_all & dimtest(x, truedim)\n",
    "if succeed_all:\n",
    "    print(\"dimtest succeed\")"
   ],
   "metadata": {
    "collapsed": false,
    "ExecuteTime": {
     "start_time": "2023-04-06T14:36:05.573897Z",
     "end_time": "2023-04-06T14:36:05.614661Z"
    }
   }
  },
  {
   "cell_type": "code",
   "execution_count": 32,
   "outputs": [],
   "source": [
    "# rectangular test\n",
    "# array is forced to be rectangular so no rectangular test needed"
   ],
   "metadata": {
    "collapsed": false,
    "ExecuteTime": {
     "start_time": "2023-04-06T14:36:05.594421Z",
     "end_time": "2023-04-06T14:36:05.654284Z"
    }
   }
  },
  {
   "cell_type": "code",
   "execution_count": 33,
   "outputs": [],
   "source": [
    "# my transpose testing"
   ],
   "metadata": {
    "collapsed": false,
    "ExecuteTime": {
     "start_time": "2023-04-06T14:36:05.639873Z",
     "end_time": "2023-04-06T14:36:05.660736Z"
    }
   }
  },
  {
   "cell_type": "code",
   "execution_count": 34,
   "outputs": [],
   "source": [
    "def np_test_mytranspose(x, true_tp)->bool:\n",
    "    my_tp = mytranspose(x)\n",
    "    success = np.array((my_tp==true_tp)|((my_tp != my_tp)&(true_tp != true_tp))).all() # identical or nan in both\n",
    "    if success:\n",
    "        print(\"mytranspose successfully transposed\")\n",
    "        print(x)\n",
    "        print(\"to\")\n",
    "        print(my_tp)\n",
    "    else:\n",
    "        print(\"mytranspose failied to transpose\")\n",
    "        print(x)\n",
    "        print(\"to\")\n",
    "        print(true_tp)\n",
    "        print(\"instead\")\n",
    "        print(my_tp)\n",
    "        print(\"was obtained\")\n",
    "    return success"
   ],
   "metadata": {
    "collapsed": false,
    "ExecuteTime": {
     "start_time": "2023-04-06T14:36:05.639976Z",
     "end_time": "2023-04-06T14:36:05.660943Z"
    }
   }
  },
  {
   "cell_type": "code",
   "execution_count": 35,
   "outputs": [],
   "source": [
    "# none testing"
   ],
   "metadata": {
    "collapsed": false,
    "ExecuteTime": {
     "start_time": "2023-04-06T14:36:05.640062Z",
     "end_time": "2023-04-06T14:36:05.684662Z"
    }
   }
  },
  {
   "cell_type": "code",
   "execution_count": 36,
   "outputs": [],
   "source": [
    "np_none_dataset_1, np_none_transpose_1 = np.nan, np.nan\n",
    "np_none_dataset_2, np_none_transpose_2 = np.inf, np.inf"
   ],
   "metadata": {
    "collapsed": false,
    "ExecuteTime": {
     "start_time": "2023-04-06T14:36:05.683823Z",
     "end_time": "2023-04-06T14:36:05.684968Z"
    }
   }
  },
  {
   "cell_type": "code",
   "execution_count": 37,
   "outputs": [
    {
     "name": "stdout",
     "output_type": "stream",
     "text": [
      "mytranspose successfully transposed\n",
      "nan\n",
      "to\n",
      "nan\n",
      "mytranspose successfully transposed\n",
      "inf\n",
      "to\n",
      "inf\n",
      "mytranspose can transpose np none\n"
     ]
    }
   ],
   "source": [
    "succeed_all = True\n",
    "for x, true_tp in zip([np_none_dataset_1,np_none_dataset_2],[np_none_transpose_1,np_none_transpose_2]):\n",
    "    succeed_all = succeed_all & np_test_mytranspose(x, true_tp)\n",
    "if succeed_all:\n",
    "    print(\"mytranspose can transpose np none\")"
   ],
   "metadata": {
    "collapsed": false,
    "ExecuteTime": {
     "start_time": "2023-04-06T14:36:05.683884Z",
     "end_time": "2023-04-06T14:36:05.685123Z"
    }
   }
  },
  {
   "cell_type": "code",
   "execution_count": 38,
   "outputs": [],
   "source": [
    "# scalar testing"
   ],
   "metadata": {
    "collapsed": false,
    "ExecuteTime": {
     "start_time": "2023-04-06T14:36:05.683944Z",
     "end_time": "2023-04-06T14:36:05.695326Z"
    }
   }
  },
  {
   "cell_type": "code",
   "execution_count": 39,
   "outputs": [
    {
     "name": "stderr",
     "output_type": "stream",
     "text": [

      "/tmp/ipykernel_6589/1481855360.py:1: DeprecationWarning: `np.complex` is a deprecated alias for the builtin `complex`. To silence this warning, use `complex` by itself. Doing this will not modify any behavior and is safe. If you specifically wanted the numpy scalar type, use `np.complex128` here.\n",
      "Deprecated in NumPy 1.20; for more details and guidance: https://numpy.org/devdocs/release/1.20.0-notes.html#deprecations\n",
      "  np_scalar_dataset_1, np_scalar_transpose_1 = np.complex(1,2), np.complex(1,2)\n",
      "/tmp/ipykernel_6589/1481855360.py:2: DeprecationWarning: `np.float` is a deprecated alias for the builtin `float`. To silence this warning, use `float` by itself. Doing this will not modify any behavior and is safe. If you specifically wanted the numpy scalar type, use `np.float64` here.\n",
      "Deprecated in NumPy 1.20; for more details and guidance: https://numpy.org/devdocs/release/1.20.0-notes.html#deprecations\n",
      "  np_scalar_dataset_2, np_scalar_transpose_2 = np.float64(1.23456), np.float(1.23456)\n"
     ]
    }
   ],
   "source": [
    "np_scalar_dataset_1, np_scalar_transpose_1 = np.complex(1,2), np.complex(1,2)\n",
    "np_scalar_dataset_2, np_scalar_transpose_2 = np.float64(1.23456), np.float(1.23456)"
   ],
   "metadata": {
    "collapsed": false,
    "ExecuteTime": {
     "start_time": "2023-04-06T14:36:05.696250Z",
     "end_time": "2023-04-06T14:36:05.734381Z"
    }
   }
  },
  {
   "cell_type": "code",
   "execution_count": 40,
   "outputs": [
    {
     "name": "stdout",
     "output_type": "stream",
     "text": [
      "mytranspose successfully transposed\n",
      "(1+2j)\n",
      "to\n",
      "(1+2j)\n",
      "mytranspose successfully transposed\n",
      "1.23456\n",
      "to\n",
      "1.23456\n",
      "mytranspose can transpose np scalar\n"
     ]
    }
   ],
   "source": [
    "succeed_all = True\n",
    "for x, true_tp in zip([np_scalar_dataset_1,np_scalar_dataset_2],[np_scalar_transpose_1,np_scalar_transpose_2]):\n",
    "    succeed_all = succeed_all & np_test_mytranspose(x, true_tp)\n",
    "if succeed_all:\n",
    "    print(\"mytranspose can transpose np scalar\")"
   ],
   "metadata": {
    "collapsed": false,
    "ExecuteTime": {
     "start_time": "2023-04-06T14:36:05.713786Z",
     "end_time": "2023-04-06T14:36:05.762864Z"
    }
   }
  },
  {
   "cell_type": "code",
   "execution_count": 41,
   "outputs": [],
   "source": [
    "# vector testing"
   ],
   "metadata": {
    "collapsed": false,
    "ExecuteTime": {
     "start_time": "2023-04-06T14:36:05.759927Z",
     "end_time": "2023-04-06T14:36:05.763008Z"
    }
   }
  },
  {
   "cell_type": "code",
   "execution_count": 42,
   "outputs": [],
   "source": [
    "np_vector_dataset_1, np_vector_transpose_1 = np.array([\"String\",\"Vector\"]), np.array([\"String\",\"Vector\"])\n",
    "np_vector_dataset_2, np_vector_transpose_2 = np.array([1,2,3,4]), np.array([1,2,3,4])\n",
    "np_vector_dataset_3, np_vector_transpose_3 = np.array([True,True,False,True]), np.array([True,True,False,True])\n",
    "np_vector_dataset_4, np_vector_transpose_4 = np.array([\"Mixed\",\"Vector\",1,None,True]), np.array([\"Mixed\",\"Vector\",1,None,True])"
   ],
   "metadata": {
    "collapsed": false,
    "ExecuteTime": {
     "start_time": "2023-04-06T14:36:05.760008Z",
     "end_time": "2023-04-06T14:36:05.804289Z"
    }
   }
  },
  {
   "cell_type": "code",
   "execution_count": 43,
   "outputs": [
    {
     "name": "stdout",
     "output_type": "stream",
     "text": [
      "mytranspose successfully transposed\n",
      "['String' 'Vector']\n",
      "to\n",
      "['String' 'Vector']\n",
      "mytranspose successfully transposed\n",
      "[1 2 3 4]\n",
      "to\n",
      "[1 2 3 4]\n",
      "mytranspose successfully transposed\n",
      "[ True  True False  True]\n",
      "to\n",
      "[ True  True False  True]\n",
      "mytranspose successfully transposed\n",
      "['Mixed' 'Vector' 1 None True]\n",
      "to\n",
      "['Mixed' 'Vector' 1 None True]\n",
      "mytranspose can transpose np vector\n"
     ]
    }
   ],
   "source": [
    "succeed_all = True\n",
    "for x, true_tp in zip([np_vector_dataset_1,np_vector_dataset_2,np_vector_dataset_3,np_vector_dataset_4],\n",
    "                      [np_vector_transpose_1,np_vector_transpose_2,np_vector_transpose_3,np_vector_transpose_4]):\n",
    "    succeed_all = succeed_all & np_test_mytranspose(x, true_tp)\n",
    "if succeed_all:\n",
    "    print(\"mytranspose can transpose np vector\")"
   ],
   "metadata": {
    "collapsed": false,
    "ExecuteTime": {
     "start_time": "2023-04-06T14:36:05.803787Z",
     "end_time": "2023-04-06T14:36:05.804601Z"
    }
   }
  },
  {
   "cell_type": "code",
   "execution_count": 44,
   "outputs": [],
   "source": [
    "# matrix testing"
   ],
   "metadata": {
    "collapsed": false,
    "ExecuteTime": {
     "start_time": "2023-04-06T14:36:05.803869Z",
     "end_time": "2023-04-06T14:36:05.804650Z"
    }
   }
  },
  {
   "cell_type": "code",
   "execution_count": 45,
   "outputs": [],
   "source": [
    "np_matrix_dataset_1, np_matrix_transpose_1 = np.array([[\"This\",\"is\"],[\"string\",\"vector\"]]), np.array([[\"This\",\"string\"],[\"is\",\"vector\"]])\n",
    "np_matrix_dataset_2, np_matrix_transpose_2 = np.array([[1,2],[np.nan, np.inf]]), np.array([[1,np.nan],[2,np.inf]])\n",
    "np_matrix_dataset_3, np_matrix_transpose_3 = np.array([[True,True,False],[False,False,False]]), np.array([[True,False],[True,False],[False,False]])\n",
    "np_matrix_dataset_4, np_matrix_transpose_4 = np.array([[1,2],[3,4],[5,6],[7,8]]), np.array([[1,3,5,7],[2,4,6,8]])"
   ],
   "metadata": {
    "collapsed": false,
    "ExecuteTime": {
     "start_time": "2023-04-06T14:36:05.803913Z",
     "end_time": "2023-04-06T14:36:05.860439Z"
    }
   }
  },
  {
   "cell_type": "code",
   "execution_count": 46,
   "outputs": [
    {
     "name": "stdout",
     "output_type": "stream",
     "text": [
      "mytranspose successfully transposed\n",
      "[['This' 'is']\n",
      " ['string' 'vector']]\n",
      "to\n",
      "[['This' 'string']\n",
      " ['is' 'vector']]\n",
      "mytranspose successfully transposed\n",
      "[[ 1.  2.]\n",
      " [nan inf]]\n",
      "to\n",
      "[[ 1. nan]\n",
      " [ 2. inf]]\n",
      "mytranspose successfully transposed\n",
      "[[ True  True False]\n",
      " [False False False]]\n",
      "to\n",
      "[[ True False]\n",
      " [ True False]\n",
      " [False False]]\n",
      "mytranspose successfully transposed\n",
      "[[1 2]\n",
      " [3 4]\n",
      " [5 6]\n",
      " [7 8]]\n",
      "to\n",
      "[[1 3 5 7]\n",
      " [2 4 6 8]]\n",
      "mytranspose can transpose np matrix\n"
     ]
    }
   ],
   "source": [
    "succeed_all = True\n",
    "for x, true_tp in zip([np_matrix_dataset_1,np_matrix_dataset_2,np_matrix_dataset_3,np_matrix_dataset_4],\n",
    "                      [np_matrix_transpose_1,np_matrix_transpose_2,np_matrix_transpose_3,np_matrix_transpose_4]):\n",
    "    succeed_all = succeed_all & np_test_mytranspose(x,true_tp)\n",
    "if succeed_all:\n",
    "    print(\"mytranspose can transpose np matrix\")"
   ],
   "metadata": {
    "collapsed": false,
    "ExecuteTime": {
     "start_time": "2023-04-06T14:36:05.847770Z",
     "end_time": "2023-04-06T14:36:05.872082Z"
    }
   }
  },
  {
   "cell_type": "code",
   "execution_count": 47,
   "outputs": [],
   "source": [
    "# hypermatrix testing"
   ],
   "metadata": {
    "collapsed": false,
    "ExecuteTime": {
     "start_time": "2023-04-06T14:36:05.847846Z",
     "end_time": "2023-04-06T14:36:05.872206Z"
    }
   }
  },
  {
   "cell_type": "code",
   "execution_count": 48,
   "outputs": [],
   "source": [
    "np_hypermatrix_dataset_1, np_hypermatrix_transpose_1 = np.array([[[True,True],[True,False],[False,False]],[[False,False],[False,True],[True,True]]]), np.array([[[True,True],[False,False]],[[True,False],[False,True]],[[False,False],[True,True]]])\n",
    "np_hypermatrix_dataset_2, np_hypermatrix_transpose_2 = np.array([[[np.nan,np.nan],[np.inf,np.inf]],[[None,None],[0,0]]]),np.array([[[np.nan,np.nan],[None,None]],[[np.inf,np.inf],[0,0]]])\n",
    "np_hypermatrix_dataset_3, np_hypermatrix_transpose_3 = np.array([[[\"s\",\"st\"],[\"str\",\"stri\"]],[[\"strin\",\"string\"],[\"n\",\"nu\"]],[[\"num\",\"numb\"],[\"numbe\",\"number\"]]]), np.array([[[\"s\",\"st\"],[\"strin\",\"string\"],[\"num\",\"numb\"]],[[\"str\",\"stri\"],[\"n\",\"nu\"],[\"numbe\",\"number\"]]])\n",
    "np_hypermatrix_dataset_4, np_hypermatrix_transpose_4 = np.array([[[1,2,3],[10,20,30]],[[100,200,300],[1000,2000,3000]]]), np.array([[[1,2,3],[100,200,300]],[[10,20,30],[1000,2000,3000]]])"
   ],
   "metadata": {
    "collapsed": false,
    "ExecuteTime": {
     "start_time": "2023-04-06T14:36:05.850117Z",
     "end_time": "2023-04-06T14:36:05.872527Z"
    }
   }
  },
  {
   "cell_type": "code",
   "execution_count": 49,
   "outputs": [
    {
     "name": "stdout",
     "output_type": "stream",
     "text": [
      "mytranspose successfully transposed\n",
      "[[[ True  True]\n",
      "  [ True False]\n",
      "  [False False]]\n",
      "\n",
      " [[False False]\n",
      "  [False  True]\n",
      "  [ True  True]]]\n",
      "to\n",
      "[[[ True  True]\n",
      "  [False False]]\n",
      "\n",
      " [[ True False]\n",
      "  [False  True]]\n",
      "\n",
      " [[False False]\n",
      "  [ True  True]]]\n",
      "mytranspose successfully transposed\n",
      "[[[nan nan]\n",
      "  [inf inf]]\n",
      "\n",
      " [[None None]\n",
      "  [0 0]]]\n",
      "to\n",
      "[[[nan nan]\n",
      "  [None None]]\n",
      "\n",
      " [[inf inf]\n",
      "  [0 0]]]\n",
      "mytranspose successfully transposed\n",
      "[[['s' 'st']\n",
      "  ['str' 'stri']]\n",
      "\n",
      " [['strin' 'string']\n",
      "  ['n' 'nu']]\n",
      "\n",
      " [['num' 'numb']\n",
      "  ['numbe' 'number']]]\n",
      "to\n",
      "[[['s' 'st']\n",
      "  ['strin' 'string']\n",
      "  ['num' 'numb']]\n",
      "\n",
      " [['str' 'stri']\n",
      "  ['n' 'nu']\n",
      "  ['numbe' 'number']]]\n",
      "mytranspose successfully transposed\n",
      "[[[   1    2    3]\n",
      "  [  10   20   30]]\n",
      "\n",
      " [[ 100  200  300]\n",
      "  [1000 2000 3000]]]\n",
      "to\n",
      "[[[   1    2    3]\n",
      "  [ 100  200  300]]\n",
      "\n",
      " [[  10   20   30]\n",
      "  [1000 2000 3000]]]\n",
      "mytranspose can transpose np hypermatrix\n"
     ]
    }
   ],
   "source": [
    "succeed_all = True\n",
    "for x, true_tp in zip([np_hypermatrix_dataset_1,np_hypermatrix_dataset_2,np_hypermatrix_dataset_3,np_hypermatrix_dataset_4],\n",
    "                      [np_hypermatrix_transpose_1,np_hypermatrix_transpose_2,np_hypermatrix_transpose_3,np_hypermatrix_transpose_4]):\n",
    "    succeed_all = succeed_all & np_test_mytranspose(x,true_tp)\n",
    "if succeed_all:\n",
    "    print(\"mytranspose can transpose np hypermatrix\")"
   ],
   "metadata": {
    "collapsed": false,
    "ExecuteTime": {
     "start_time": "2023-04-06T15:18:35.312010Z",
     "end_time": "2023-04-06T15:18:35.356668Z"
    }
   }
  },
  {
   "cell_type": "code",
   "execution_count": 48,
   "outputs": [],
   "source": [
    "# Additional Work\n",
    "# Pandas implement of testmytranspose\n",
    "import pandas as pd"
   ],
   "metadata": {
    "collapsed": false,
    "ExecuteTime": {
     "start_time": "2023-04-06T15:18:35.355894Z",
     "end_time": "2023-04-06T15:18:35.356767Z"
    }
   }
  },
  {
   "cell_type": "code",
   "execution_count": 49,
   "outputs": [],
   "source": [
    "# dim test"
   ],
   "metadata": {
    "collapsed": false,
    "ExecuteTime": {
     "start_time": "2023-04-06T15:18:35.355949Z",
     "end_time": "2023-04-06T15:18:35.356808Z"
    }
   }
  },
  {
   "cell_type": "code",
   "execution_count": 50,
   "outputs": [],
   "source": [
    "pd_dimtest_example_1, pd_truedim_1 = pd.DataFrame(data=[[1,2],[3,4]]), [2,2]\n",
    "pd_dimtest_example_2, pd_truedim_2 = pd.DataFrame(data=[[\"a\",\"b\",\"c\"],[\"d\",\"e\",\"f\"]]), [2,3]\n",
    "pd_dimtest_example_3, pd_truedim_3 = pd.DataFrame(data=[[pd.NA],[pd.NA],[pd.NA]]), [3,1]\n",
    "pd_dimtest_example_4, pd_truedim_4 = pd.DataFrame(data=[[False]]), [1,1]"
   ],
   "metadata": {
    "collapsed": false,
    "ExecuteTime": {
     "start_time": "2023-04-06T15:18:35.356360Z",
     "end_time": "2023-04-06T15:18:35.361912Z"
    }
   }
  },
  {
   "cell_type": "code",
   "execution_count": 51,
   "outputs": [
    {
     "name": "stdout",
     "output_type": "stream",
     "text": [
      "   0  1\n",
      "0  1  2\n",
      "1  3  4\n",
      "has dimension\n",
      "[2, 2]\n",
      "succeed dimtest\n",
      "   0  1  2\n",
      "0  a  b  c\n",
      "1  d  e  f\n",
      "has dimension\n",
      "[2, 3]\n",
      "succeed dimtest\n",
      "      0\n",
      "0  <NA>\n",
      "1  <NA>\n",
      "2  <NA>\n",
      "has dimension\n",
      "[3, 1]\n",
      "succeed dimtest\n",
      "       0\n",
      "0  False\n",
      "has dimension\n",
      "[1, 1]\n",
      "succeed dimtest\n",
      "dimtest succeed\n"
     ]
    }
   ],
   "source": [
    "succeed_all = True\n",
    "for x, truedim in zip([pd_dimtest_example_1, pd_dimtest_example_2, pd_dimtest_example_3, pd_dimtest_example_4],[pd_truedim_1, pd_truedim_2, pd_truedim_3, pd_truedim_4]):\n",
    "    succeed_all = succeed_all & dimtest(x, truedim)\n",
    "if succeed_all:\n",
    "    print(\"dimtest succeed\")"
   ],
   "metadata": {
    "collapsed": false,
    "ExecuteTime": {
     "start_time": "2023-04-06T15:18:35.362138Z",
     "end_time": "2023-04-06T15:18:35.428093Z"
    }
   }
  },
  {
   "cell_type": "code",
   "execution_count": 52,
   "outputs": [],
   "source": [
    "# rectangular test\n",
    "# DataFrame is forced to be rectangular so no rectangular test needed"
   ],
   "metadata": {
    "collapsed": false,
    "ExecuteTime": {
     "start_time": "2023-04-06T15:18:35.384957Z",
     "end_time": "2023-04-06T15:18:35.428314Z"
    }
   }
  },
  {
   "cell_type": "code",
   "execution_count": 53,
   "outputs": [],
   "source": [
    "# pd transpose testing"
   ],
   "metadata": {
    "collapsed": false,
    "ExecuteTime": {
     "start_time": "2023-04-06T15:18:35.406564Z",
     "end_time": "2023-04-06T15:18:35.458837Z"
    }
   }
  },
  {
   "cell_type": "code",
   "execution_count": 54,
   "outputs": [],
   "source": [
    "def pd_test_mytranspose(x, true_tp)->bool:\n",
    "    my_tp = mytranspose(x)\n",
    "    success = ((my_tp==true_tp)|((my_tp != my_tp)&(true_tp != true_tp))).all(axis=None) # identical or nan in both\n",
    "    if success:\n",
    "        print(\"mytranspose successfully transposed\")\n",
    "        print(x)\n",
    "        print(\"to\")\n",
    "        print(my_tp)\n",
    "    else:\n",
    "        print(\"mytranspose failied to transpose\")\n",
    "        print(x)\n",
    "        print(\"to\")\n",
    "        print(true_tp)\n",
    "        print(\"instead\")\n",
    "        print(my_tp)\n",
    "        print(\"was obtained\")\n",
    "    return success"
   ],
   "metadata": {
    "collapsed": false,
    "ExecuteTime": {
     "start_time": "2023-04-06T15:18:35.448330Z",
     "end_time": "2023-04-06T15:18:35.458964Z"
    }
   }
  },
  {
   "cell_type": "code",
   "execution_count": 55,
   "outputs": [],
   "source": [
    "pd_dataset_1, pd_transpose_1 = pd.DataFrame([[None]]), pd.DataFrame([[None]])\n",
    "pd_dataset_2, pd_transpose_2 = pd.DataFrame([[pd.NA]]),pd.DataFrame(([pd.NA]))\n",
    "pd_dataset_3, pd_transpose_3 = pd.DataFrame([[1]]), pd.DataFrame([[1]])\n",
    "pd_dataset_4, pd_transpose_4 = pd.DataFrame([[True,True,False]], columns=[\"one\",\"two\",\"three\"],index=[100]), pd.DataFrame([[True],[True],[False]], columns=[100], index=[\"one\",\"two\",\"three\"])\n",
    "pd_dataset_5, pd_transpose_5 = pd.DataFrame([[1,2],[\"a\",\"b\"],[True,False]], columns=[\"First\",\"Second\"],index=[\"numeric\",\"string\",\"bool\"]), pd.DataFrame([[1,\"a\",True],[2,\"b\",False]],columns=[\"numeric\",\"string\",\"bool\"],index=[\"First\",\"Second\"])"
   ],
   "metadata": {
    "collapsed": false,
    "ExecuteTime": {
     "start_time": "2023-04-06T15:18:35.448518Z",
     "end_time": "2023-04-06T15:18:35.491873Z"
    }
   }
  },
  {
   "cell_type": "code",
   "execution_count": 56,
   "outputs": [
    {
     "name": "stdout",
     "output_type": "stream",
     "text": [
      "mytranspose successfully transposed\n",
      "      0\n",
      "0  None\n",
      "to\n",
      "      0\n",
      "0  None\n",
      "mytranspose successfully transposed\n",
      "      0\n",
      "0  <NA>\n",
      "to\n",
      "      0\n",
      "0  <NA>\n",
      "mytranspose successfully transposed\n",
      "   0\n",
      "0  1\n",
      "to\n",
      "   0\n",
      "0  1\n",
      "mytranspose successfully transposed\n",
      "      one   two  three\n",
      "100  True  True  False\n",
      "to\n",
      "         100\n",
      "one     True\n",
      "two     True\n",
      "three  False\n",
      "mytranspose successfully transposed\n",
      "        First Second\n",
      "numeric     1      2\n",
      "string      a      b\n",
      "bool     True  False\n",
      "to\n",
      "        numeric string   bool\n",
      "First         1      a   True\n",
      "Second        2      b  False\n",
      "dataframe transposing succeed\n"
     ]
    }
   ],
   "source": [
    "succeed_all = True\n",
    "for x, true_tp in zip([pd_dataset_1, pd_dataset_2, pd_dataset_3, pd_dataset_4, pd_dataset_5],[pd_transpose_1, pd_transpose_2, pd_transpose_3, pd_transpose_4, pd_transpose_5]):\n",
    "    succeed_all = succeed_all & pd_test_mytranspose(x, true_tp)\n",
    "if succeed_all:\n",
    "    print(\"dataframe transposing succeed\")"
   ],
   "metadata": {
    "collapsed": false,
    "ExecuteTime": {
     "start_time": "2023-04-06T15:18:35.492014Z",
     "end_time": "2023-04-06T15:18:35.493845Z"
    }
   }
  }
 ],
 "metadata": {
  "kernelspec": {
   "display_name": "Python 3",
   "language": "python",
   "name": "python3"
  },
  "language_info": {
   "codemirror_mode": {
    "name": "ipython",
    "version": 2
   },
   "file_extension": ".py",
   "mimetype": "text/x-python",
   "name": "python",
   "nbconvert_exporter": "python",
   "pygments_lexer": "ipython2",
   "version": "2.7.6"
  }
 },
 "nbformat": 4,
 "nbformat_minor": 0
}
