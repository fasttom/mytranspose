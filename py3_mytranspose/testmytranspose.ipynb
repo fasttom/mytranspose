{
 "cells": [
  {
   "cell_type": "code",
   "execution_count": 1,
   "outputs": [],
   "source": [
    "from mytranspose import *"
   ],
   "metadata": {
    "collapsed": false,
    "ExecuteTime": {
     "start_time": "2023-04-06T14:55:05.019912Z",
     "end_time": "2023-04-06T14:55:05.251449Z"
    }
   }
  },
  {
   "cell_type": "code",
   "execution_count": 2,
   "outputs": [],
   "source": [
    "# dimension testing"
   ],
   "metadata": {
    "collapsed": false,
    "ExecuteTime": {
     "start_time": "2023-04-06T14:55:05.252160Z",
     "end_time": "2023-04-06T14:55:05.254354Z"
    }
   }
  },
  {
   "cell_type": "code",
   "execution_count": 3,
   "outputs": [],
   "source": [
    "def dimtest(x, true_dim)->bool:\n",
    "    my_dim = dim(x)\n",
    "    success = (my_dim == true_dim)\n",
    "    if success:\n",
    "        print(x)\n",
    "        print(\"has dimension\")\n",
    "        print(true_dim)\n",
    "        print(\"succeed dimtest\")\n",
    "    else:\n",
    "        print(x)\n",
    "        print(\"has dimension\")\n",
    "        print(true_dim, \" but we got \", my_dim)\n",
    "    return success"
   ],
   "metadata": {
    "collapsed": false,
    "ExecuteTime": {
     "start_time": "2023-04-06T14:55:05.255478Z",
     "end_time": "2023-04-06T14:55:05.290696Z"
    }
   }
  },
  {
   "cell_type": "code",
   "execution_count": 4,
   "outputs": [],
   "source": [
    "dimtest_example_none, truedim_none = None, []\n",
    "dimtest_example_0d, truedim_0d = \"This is a scalar\", []\n",
    "dimtest_example_1d, truedim_1d = [\"This\",\"is\", \"a\", \"vector\"], [4]\n",
    "dimtest_example_2d, truedim_2d =[[\"This\",\"is\"], [\"a\", \"matrix\"],[\"of\",\"strings\"]], [3,2]\n",
    "dimtest_example_3d, truedim_3d = [[[\"This\",\"is\"], [\"a\", \"hypermatrix\"],[\"of\",\"strings\"]], [[\"which\",\"has\"], [\"shape\", \"2\"],[\"3\",\"2\"]]], [2,3,2]"
   ],
   "metadata": {
    "collapsed": false,
    "ExecuteTime": {
     "start_time": "2023-04-06T14:55:05.278259Z",
     "end_time": "2023-04-06T14:55:05.290925Z"
    }
   }
  },
  {
   "cell_type": "code",
   "execution_count": 5,
   "outputs": [
    {
     "name": "stdout",
     "output_type": "stream",
     "text": [
      "None\n",
      "has dimension\n",
      "[]\n",
      "succeed dimtest\n",
      "This is a scalar\n",
      "has dimension\n",
      "[]\n",
      "succeed dimtest\n",
      "['This', 'is', 'a', 'vector']\n",
      "has dimension\n",
      "[4]\n",
      "succeed dimtest\n",
      "[['This', 'is'], ['a', 'matrix'], ['of', 'strings']]\n",
      "has dimension\n",
      "[3, 2]\n",
      "succeed dimtest\n",
      "[[['This', 'is'], ['a', 'hypermatrix'], ['of', 'strings']], [['which', 'has'], ['shape', '2'], ['3', '2']]]\n",
      "has dimension\n",
      "[2, 3, 2]\n",
      "succeed dimtest\n",
      "dimtest succeed\n"
     ]
    }
   ],
   "source": [
    "succeed_all = True\n",
    "for x, truedim in zip([dimtest_example_none, dimtest_example_0d, dimtest_example_1d, dimtest_example_2d, dimtest_example_3d],[truedim_none, truedim_0d, truedim_1d, truedim_2d, truedim_3d]):\n",
    "    succeed_all = succeed_all & dimtest(x, truedim)\n",
    "if succeed_all:\n",
    "    print(\"dimtest succeed\")"
   ],
   "metadata": {
    "collapsed": false,
    "ExecuteTime": {
     "start_time": "2023-04-06T14:55:05.291157Z",
     "end_time": "2023-04-06T14:55:05.307546Z"
    }
   }
  },
  {
   "cell_type": "code",
   "execution_count": 6,
   "outputs": [],
   "source": [
    "# rectangular testing"
   ],
   "metadata": {
    "collapsed": false,
    "ExecuteTime": {
     "start_time": "2023-04-06T14:55:05.307820Z",
     "end_time": "2023-04-06T14:55:05.352234Z"
    }
   }
  },
  {
   "cell_type": "code",
   "execution_count": 7,
   "outputs": [],
   "source": [
    "def rectangular_test(x, true_rectangular:bool)->bool:\n",
    "    my_rectangular = is_rectangular(x)\n",
    "    success = (my_rectangular == true_rectangular)\n",
    "    if success:\n",
    "        print(x)\n",
    "        if true_rectangular:\n",
    "            print(\"is rectangular\")\n",
    "        else:\n",
    "            print(\"is not rectangular\")\n",
    "        print(\"succeed rectangular test\")\n",
    "    else:\n",
    "        print(x)\n",
    "        if true_rectangular:\n",
    "            print(\"is rectangular. But we got result that x is not rectangular\")\n",
    "        else:\n",
    "            print(\"is not rectangular. But we got result that x is rectangular\")\n",
    "    return success"
   ],
   "metadata": {
    "collapsed": false,
    "ExecuteTime": {
     "start_time": "2023-04-06T14:55:05.352008Z",
     "end_time": "2023-04-06T14:55:05.352416Z"
    }
   }
  },
  {
   "cell_type": "code",
   "execution_count": 8,
   "outputs": [],
   "source": [
    "rectest_example_true_none, rectest_label_none = None, True # []\n",
    "rectest_example_true_0d, rectest_label_true_0d = 1234, True # []\n",
    "rectest_example_true_1d, rectest_label_true_1d = [1,2,3,4], True # [4]\n",
    "rectest_example_true_2d, rectest_label_true_2d = [[1,2,3],[4,5,6]], True # [2,3]\n",
    "rectest_example_false_2d, rectest_label_false_2d = [[1,2],[3,4,5]], False # [2,?]\n",
    "rectest_example_true_3d, rectest_label_true_3d = [[[1,2,3],[4,5,6],[7,8,9]],[[1,2],[3,4],[5,6]]], True # [2,3,?]\n",
    "rectest_example_false_3d, rectest_label_false_3d = [[[1,2,3],[4,5,6],[7,8,9]],[[1,2,3],[4,5,6]]], False # [2,?,3]"
   ],
   "metadata": {
    "collapsed": false,
    "ExecuteTime": {
     "start_time": "2023-04-06T14:55:05.352084Z",
     "end_time": "2023-04-06T14:55:05.352476Z"
    }
   }
  },
  {
   "cell_type": "code",
   "execution_count": 9,
   "outputs": [
    {
     "name": "stdout",
     "output_type": "stream",
     "text": [
      "None\n",
      "is rectangular\n",
      "succeed rectangular test\n",
      "1234\n",
      "is rectangular\n",
      "succeed rectangular test\n",
      "[1, 2, 3, 4]\n",
      "is rectangular\n",
      "succeed rectangular test\n",
      "[[1, 2, 3], [4, 5, 6]]\n",
      "is rectangular\n",
      "succeed rectangular test\n",
      "[[[1, 2, 3], [4, 5, 6], [7, 8, 9]], [[1, 2], [3, 4], [5, 6]]]\n",
      "is rectangular\n",
      "succeed rectangular test\n",
      "[[1, 2], [3, 4, 5]]\n",
      "is not rectangular\n",
      "succeed rectangular test\n",
      "[[[1, 2, 3], [4, 5, 6], [7, 8, 9]], [[1, 2, 3], [4, 5, 6]]]\n",
      "is not rectangular\n",
      "succeed rectangular test\n",
      "rectangular_test succeed\n"
     ]
    }
   ],
   "source": [
    "succeed_all = True\n",
    "for x, true_rectangular in zip([rectest_example_true_none,rectest_example_true_0d,rectest_example_true_1d,rectest_example_true_2d,rectest_example_true_3d,rectest_example_false_2d,rectest_example_false_3d],\n",
    "        [rectest_label_none,rectest_label_true_0d,rectest_label_true_1d,rectest_label_true_2d,rectest_label_true_3d,rectest_label_false_2d,rectest_label_false_3d]):\n",
    "    succeed_all = succeed_all & rectangular_test(x, true_rectangular)\n",
    "if succeed_all:\n",
    "    print(\"rectangular_test succeed\")"
   ],
   "metadata": {
    "collapsed": false,
    "ExecuteTime": {
     "start_time": "2023-04-06T14:55:05.352117Z",
     "end_time": "2023-04-06T14:55:05.396152Z"
    }
   }
  },
  {
   "cell_type": "code",
   "execution_count": 10,
   "outputs": [],
   "source": [
    "#my_transpose testing"
   ],
   "metadata": {
    "collapsed": false,
    "ExecuteTime": {
     "start_time": "2023-04-06T14:55:05.395823Z",
     "end_time": "2023-04-06T14:55:05.396248Z"
    }
   }
  },
  {
   "cell_type": "code",
   "execution_count": 11,
   "outputs": [],
   "source": [
    "def test_mytranspose(x, true_tp)->bool:\n",
    "    my_tp = mytranspose(x)\n",
    "    success = (my_tp==true_tp)\n",
    "    if success:\n",
    "        print(\"mytranspose successfully transposed\")\n",
    "        print(x)\n",
    "        print(\"to\")\n",
    "        print(my_tp)\n",
    "    else:\n",
    "        print(\"mytranspose failied to transpose\")\n",
    "        print(x)\n",
    "        print(\"to\")\n",
    "        print(true_tp)\n",
    "        print(\"instead\")\n",
    "        print(my_tp)\n",
    "        print(\"was obtained\")\n",
    "    return success"
   ],
   "metadata": {
    "collapsed": false,
    "ExecuteTime": {
     "start_time": "2023-04-06T14:55:05.395873Z",
     "end_time": "2023-04-06T14:55:05.396294Z"
    }
   }
  },
  {
   "cell_type": "code",
   "execution_count": 12,
   "outputs": [],
   "source": [
    "# null testing"
   ],
   "metadata": {
    "collapsed": false,
    "ExecuteTime": {
     "start_time": "2023-04-06T14:55:05.395904Z",
     "end_time": "2023-04-06T14:55:05.396338Z"
    }
   }
  },
  {
   "cell_type": "code",
   "execution_count": 13,
   "outputs": [],
   "source": [
    "null_dataset_1, null_transpose_1 = None, None"
   ],
   "metadata": {
    "collapsed": false,
    "ExecuteTime": {
     "start_time": "2023-04-06T14:55:05.395933Z",
     "end_time": "2023-04-06T14:55:05.440135Z"
    }
   }
  },
  {
   "cell_type": "code",
   "execution_count": 14,
   "outputs": [
    {
     "name": "stdout",
     "output_type": "stream",
     "text": [
      "mytranspose successfully transposed\n",
      "None\n",
      "to\n",
      "None\n",
      "null transposing succeed\n"
     ]
    }
   ],
   "source": [
    "succeed_all = True\n",
    "for x, true_tp in zip([null_dataset_1],[null_transpose_1]):\n",
    "    succeed_all = succeed_all & test_mytranspose(x, true_tp)\n",
    "if succeed_all:\n",
    "    print(\"null transposing succeed\")"
   ],
   "metadata": {
    "collapsed": false,
    "ExecuteTime": {
     "start_time": "2023-04-06T14:55:05.439955Z",
     "end_time": "2023-04-06T14:55:05.440626Z"
    }
   }
  },
  {
   "cell_type": "code",
   "execution_count": 15,
   "outputs": [],
   "source": [
    "# scalar testing"
   ],
   "metadata": {
    "collapsed": false,
    "ExecuteTime": {
     "start_time": "2023-04-06T14:55:05.440066Z",
     "end_time": "2023-04-06T14:55:05.440721Z"
    }
   }
  },
  {
   "cell_type": "code",
   "execution_count": 16,
   "outputs": [],
   "source": [
    "scalar_dataset_1, scalar_transpose_1 = \"string scalar\", \"string scalar\"\n",
    "scalar_dataset_2, scalar_transpose_2 = 1234, 1234"
   ],
   "metadata": {
    "collapsed": false,
    "ExecuteTime": {
     "start_time": "2023-04-06T14:55:05.440126Z",
     "end_time": "2023-04-06T14:55:05.446910Z"
    }
   }
  },
  {
   "cell_type": "code",
   "execution_count": 17,
   "outputs": [
    {
     "name": "stdout",
     "output_type": "stream",
     "text": [
      "mytranspose successfully transposed\n",
      "string scalar\n",
      "to\n",
      "string scalar\n",
      "mytranspose successfully transposed\n",
      "1234\n",
      "to\n",
      "1234\n",
      "scalar transposing succeed\n"
     ]
    }
   ],
   "source": [
    "succeed_all = True\n",
    "for x, true_tp in zip([scalar_dataset_1,scalar_dataset_2],[scalar_transpose_1,scalar_transpose_2]):\n",
    "    succeed_all = succeed_all & test_mytranspose(x,true_tp)\n",
    "if succeed_all:\n",
    "    print(\"scalar transposing succeed\")"
   ],
   "metadata": {
    "collapsed": false,
    "ExecuteTime": {
     "start_time": "2023-04-06T14:55:05.448269Z",
     "end_time": "2023-04-06T14:55:05.493200Z"
    }
   }
  },
  {
   "cell_type": "code",
   "execution_count": 18,
   "outputs": [],
   "source": [
    "# vector testing"
   ],
   "metadata": {
    "collapsed": false,
    "ExecuteTime": {
     "start_time": "2023-04-06T14:55:05.491807Z",
     "end_time": "2023-04-06T14:55:05.493309Z"
    }
   }
  },
  {
   "cell_type": "code",
   "execution_count": 19,
   "outputs": [],
   "source": [
    "vector_dataset_1, vector_transpose_1 = [\"string\",\"vector\"], [\"string\",\"vector\"]\n",
    "vector_dataset_2, vector_transpose_2 = [1,2,3,4], [1,2,3,4]\n",
    "vector_dataset_3, vector_transpose_3 = [\"mixed\", \"vector\", 1, 2], [\"mixed\", \"vector\", 1, 2]"
   ],
   "metadata": {
    "collapsed": false,
    "ExecuteTime": {
     "start_time": "2023-04-06T14:55:05.491847Z",
     "end_time": "2023-04-06T14:55:05.493347Z"
    }
   }
  },
  {
   "cell_type": "code",
   "execution_count": 20,
   "outputs": [
    {
     "name": "stdout",
     "output_type": "stream",
     "text": [
      "mytranspose successfully transposed\n",
      "['string', 'vector']\n",
      "to\n",
      "['string', 'vector']\n",
      "mytranspose successfully transposed\n",
      "[1, 2, 3, 4]\n",
      "to\n",
      "[1, 2, 3, 4]\n",
      "mytranspose successfully transposed\n",
      "['mixed', 'vector', 1, 2]\n",
      "to\n",
      "['mixed', 'vector', 1, 2]\n",
      "vector transposing succeed\n"
     ]
    }
   ],
   "source": [
    "succeed_all = True\n",
    "for x, true_tp in zip([vector_dataset_1,vector_dataset_2,vector_dataset_3],[vector_transpose_1,vector_transpose_2,vector_transpose_3]):\n",
    "    succeed_all = succeed_all & test_mytranspose(x, true_tp)\n",
    "if succeed_all:\n",
    "    print(\"vector transposing succeed\")"
   ],
   "metadata": {
    "collapsed": false,
    "ExecuteTime": {
     "start_time": "2023-04-06T14:55:05.491880Z",
     "end_time": "2023-04-06T14:55:05.540582Z"
    }
   }
  },
  {
   "cell_type": "code",
   "execution_count": 21,
   "outputs": [],
   "source": [
    "# matraix testing"
   ],
   "metadata": {
    "collapsed": false,
    "ExecuteTime": {
     "start_time": "2023-04-06T14:55:05.540015Z",
     "end_time": "2023-04-06T14:55:05.540826Z"
    }
   }
  },
  {
   "cell_type": "code",
   "execution_count": 22,
   "outputs": [],
   "source": [
    "matrix_dataset_1, matrix_transpose_1 = [[\"string\", \"matrix\"],[\"my\",\"transpose\"]], [[\"string\",\"my\"],[\"matrix\",\"transpose\"]]\n",
    "matrix_dataset_2, matrix_transpose_2 = [[1,2,3],[4,5,6]], [[1,4],[2,5],[3,6]]\n",
    "matrix_dataset_3, matrix_transpose_3 = [[\"scalar\",\"matrix\",1,2],[\"numeric\",\"matrix\",1,2]], [[\"scalar\",\"numeric\"],[\"matrix\",\"matrix\"],[1,1],[2,2]]"
   ],
   "metadata": {
    "collapsed": false,
    "ExecuteTime": {
     "start_time": "2023-04-06T14:55:05.540117Z",
     "end_time": "2023-04-06T14:55:05.540975Z"
    }
   }
  },
  {
   "cell_type": "code",
   "execution_count": 23,
   "outputs": [
    {
     "name": "stdout",
     "output_type": "stream",
     "text": [
      "mytranspose successfully transposed\n",
      "[['string', 'matrix'], ['my', 'transpose']]\n",
      "to\n",
      "[['string', 'my'], ['matrix', 'transpose']]\n",
      "mytranspose successfully transposed\n",
      "[[1, 2, 3], [4, 5, 6]]\n",
      "to\n",
      "[[1, 4], [2, 5], [3, 6]]\n",
      "mytranspose successfully transposed\n",
      "[['scalar', 'matrix', 1, 2], ['numeric', 'matrix', 1, 2]]\n",
      "to\n",
      "[['scalar', 'numeric'], ['matrix', 'matrix'], [1, 1], [2, 2]]\n",
      "matrix transposing succeed\n"
     ]
    }
   ],
   "source": [
    "succeed_all = True\n",
    "for x, true_tp in zip([matrix_dataset_1,matrix_dataset_2,matrix_dataset_3],[matrix_transpose_1,matrix_transpose_2,matrix_transpose_3]):\n",
    "    succeed_all = succeed_all & test_mytranspose(x, true_tp)\n",
    "if succeed_all:\n",
    "    print(\"matrix transposing succeed\")"
   ],
   "metadata": {
    "collapsed": false,
    "ExecuteTime": {
     "start_time": "2023-04-06T14:55:05.540170Z",
     "end_time": "2023-04-06T14:55:05.545358Z"
    }
   }
  },
  {
   "cell_type": "code",
   "execution_count": 24,
   "outputs": [],
   "source": [
    "# hypermatrix testing\n",
    "hypermatrix_dataset_1, hypermatrix_transpose_1 = [[[1,2],[3,4]],[[5,6],[7,8]]], [[[1,2],[5,6]],[[3,4],[7,8]]]\n",
    "hypermatrix_dataset_2, hypermatrix_transpose_2 = [[[\"string\",\"hyper\"],[\"matrix\",\"transpose\"]],[[\"testing\",\"should\"],[\"be\",\"successful\"]]],[[[\"string\",\"hyper\"],[\"testing\",\"should\"]],[[\"matrix\",\"transpose\"],[\"be\",\"successful\"]]]\n",
    "hypermatrix_dataset_3, hypermatrix_transpose_3 = [[[1,2],[3,4],[5,6]],[[7],[8],[9]]], [[[1,2],[7]],[[3,4],[8]],[[5,6],[9]]]"
   ],
   "metadata": {
    "collapsed": false,
    "ExecuteTime": {
     "start_time": "2023-04-06T14:55:05.548806Z",
     "end_time": "2023-04-06T14:55:05.557008Z"
    }
   }
  },
  {
   "cell_type": "code",
   "execution_count": 25,
   "outputs": [
    {
     "name": "stdout",
     "output_type": "stream",
     "text": [
      "mytranspose successfully transposed\n",
      "[[[1, 2], [3, 4]], [[5, 6], [7, 8]]]\n",
      "to\n",
      "[[[1, 2], [5, 6]], [[3, 4], [7, 8]]]\n",
      "mytranspose successfully transposed\n",
      "[[['string', 'hyper'], ['matrix', 'transpose']], [['testing', 'should'], ['be', 'successful']]]\n",
      "to\n",
      "[[['string', 'hyper'], ['testing', 'should']], [['matrix', 'transpose'], ['be', 'successful']]]\n",
      "mytranspose successfully transposed\n",
      "[[[1, 2], [3, 4], [5, 6]], [[7], [8], [9]]]\n",
      "to\n",
      "[[[1, 2], [7]], [[3, 4], [8]], [[5, 6], [9]]]\n",
      "hypermatrix transposing succeed\n"
     ]
    }
   ],
   "source": [
    "succeed_all = True\n",
    "for x, true_tp in zip([hypermatrix_dataset_1,hypermatrix_dataset_2,hypermatrix_dataset_3],[hypermatrix_transpose_1,hypermatrix_transpose_2,hypermatrix_transpose_3]):\n",
    "    succeed_all = succeed_all & test_mytranspose(x,true_tp)\n",
    "if succeed_all:\n",
    "    print(\"hypermatrix transposing succeed\")"
   ],
   "metadata": {
    "collapsed": false,
    "ExecuteTime": {
     "start_time": "2023-04-06T14:55:05.558482Z",
     "end_time": "2023-04-06T14:55:05.600485Z"
    }
   }
  },
  {
   "cell_type": "code",
   "execution_count": 26,
   "outputs": [],
   "source": [
    "# Additional Work\n",
    "# Pandas implement of testmytranspose\n",
    "import numpy as np\n",
    "import pandas as pd"
   ],
   "metadata": {
    "collapsed": false,
    "ExecuteTime": {
     "start_time": "2023-04-06T14:55:05.600038Z",
     "end_time": "2023-04-06T14:55:05.600691Z"
    }
   }
  },
  {
   "cell_type": "code",
   "execution_count": 27,
   "outputs": [],
   "source": [
    "# dim test"
   ],
   "metadata": {
    "collapsed": false,
    "ExecuteTime": {
     "start_time": "2023-04-06T14:55:05.600116Z",
     "end_time": "2023-04-06T14:55:05.600795Z"
    }
   }
  },
  {
   "cell_type": "code",
   "execution_count": 28,
   "outputs": [],
   "source": [
    "pd_dimtest_example_1, pd_truedim_1 = pd.DataFrame(data=[[1,2],[3,4]]), [2,2]\n",
    "pd_dimtest_example_2, pd_truedim_2 = pd.DataFrame(data=[[\"a\",\"b\",\"c\"],[\"d\",\"e\",\"f\"]]), [2,3]\n",
    "pd_dimtest_example_3, pd_truedim_3 = pd.DataFrame(data=[[pd.NA],[pd.NA],[pd.NA]]), [3,1]\n",
    "pd_dimtest_example_4, pd_truedim_4 = pd.DataFrame(data=[[False]]), [1,1]"
   ],
   "metadata": {
    "collapsed": false,
    "ExecuteTime": {
     "start_time": "2023-04-06T14:55:05.600184Z",
     "end_time": "2023-04-06T14:55:05.643975Z"
    }
   }
  },
  {
   "cell_type": "code",
   "execution_count": 29,
   "outputs": [
    {
     "name": "stdout",
     "output_type": "stream",
     "text": [
      "   0  1\n",
      "0  1  2\n",
      "1  3  4\n",
      "has dimension\n",
      "[2, 2]\n",
      "succeed dimtest\n",
      "   0  1  2\n",
      "0  a  b  c\n",
      "1  d  e  f\n",
      "has dimension\n",
      "[2, 3]\n",
      "succeed dimtest\n",
      "      0\n",
      "0  <NA>\n",
      "1  <NA>\n",
      "2  <NA>\n",
      "has dimension\n",
      "[3, 1]\n",
      "succeed dimtest\n",
      "       0\n",
      "0  False\n",
      "has dimension\n",
      "[1, 1]\n",
      "succeed dimtest\n",
      "dimtest succeed\n"
     ]
    }
   ],
   "source": [
    "succeed_all = True\n",
    "for x, truedim in zip([pd_dimtest_example_1, pd_dimtest_example_2, pd_dimtest_example_3, pd_dimtest_example_4],[pd_truedim_1, pd_truedim_2, pd_truedim_3, pd_truedim_4]):\n",
    "    succeed_all = succeed_all & dimtest(x, truedim)\n",
    "if succeed_all:\n",
    "    print(\"dimtest succeed\")"
   ],
   "metadata": {
    "collapsed": false,
    "ExecuteTime": {
     "start_time": "2023-04-06T14:55:05.643775Z",
     "end_time": "2023-04-06T14:55:05.644492Z"
    }
   }
  },
  {
   "cell_type": "code",
   "execution_count": 30,
   "outputs": [],
   "source": [
    "# rectangular test\n",
    "# DataFrame is forced to be rectangular so no rectangular test needed"
   ],
   "metadata": {
    "collapsed": false,
    "ExecuteTime": {
     "start_time": "2023-04-06T14:55:05.643827Z",
     "end_time": "2023-04-06T14:55:05.644570Z"
    }
   }
  },
  {
   "cell_type": "code",
   "execution_count": 31,
   "outputs": [],
   "source": [
    "# pd transpose testing"
   ],
   "metadata": {
    "collapsed": false,
    "ExecuteTime": {
     "start_time": "2023-04-06T14:55:05.643847Z",
     "end_time": "2023-04-06T14:55:05.655484Z"
    }
   }
  },
  {
   "cell_type": "code",
   "execution_count": 32,
   "outputs": [],
   "source": [
    "def pd_test_mytranspose(x, true_tp)->bool:\n",
    "    my_tp = mytranspose(x)\n",
    "    success = ((my_tp==true_tp)|((my_tp != my_tp)&(true_tp != true_tp))).all(axis=None) # identical or nan in both\n",
    "    if success:\n",
    "        print(\"mytranspose successfully transposed\")\n",
    "        print(x)\n",
    "        print(\"to\")\n",
    "        print(my_tp)\n",
    "    else:\n",
    "        print(\"mytranspose failied to transpose\")\n",
    "        print(x)\n",
    "        print(\"to\")\n",
    "        print(true_tp)\n",
    "        print(\"instead\")\n",
    "        print(my_tp)\n",
    "        print(\"was obtained\")\n",
    "    return success"
   ],
   "metadata": {
    "collapsed": false,
    "ExecuteTime": {
     "start_time": "2023-04-06T14:55:05.656720Z",
     "end_time": "2023-04-06T14:55:05.681066Z"
    }
   }
  },
  {
   "cell_type": "code",
   "execution_count": 33,
   "outputs": [],
   "source": [
    "pd_dataset_1, pd_transpose_1 = pd.DataFrame([[None]]), pd.DataFrame([[None]])\n",
    "pd_dataset_2, pd_transpose_2 = pd.DataFrame([[pd.NA]]),pd.DataFrame(([pd.NA]))\n",
    "pd_dataset_3, pd_transpose_3 = pd.DataFrame([[1]]), pd.DataFrame([[1]])\n",
    "pd_dataset_4, pd_transpose_4 = pd.DataFrame([[True,True,False]], columns=[\"one\",\"two\",\"three\"],index=[100]), pd.DataFrame([[True],[True],[False]], columns=[100], index=[\"one\",\"two\",\"three\"])\n",
    "pd_dataset_5, pd_transpose_5 = pd.DataFrame([[1,2],[\"a\",\"b\"],[True,False]], columns=[\"First\",\"Second\"],index=[\"numeric\",\"string\",\"bool\"]), pd.DataFrame([[1,\"a\",True],[2,\"b\",False]],columns=[\"numeric\",\"string\",\"bool\"],index=[\"First\",\"Second\"])"
   ],
   "metadata": {
    "collapsed": false,
    "ExecuteTime": {
     "start_time": "2023-04-06T14:55:05.671169Z",
     "end_time": "2023-04-06T14:55:05.720639Z"
    }
   }
  },
  {
   "cell_type": "code",
   "execution_count": 34,
   "outputs": [
    {
     "name": "stdout",
     "output_type": "stream",
     "text": [
      "mytranspose successfully transposed\n",
      "      0\n",
      "0  None\n",
      "to\n",
      "      0\n",
      "0  None\n",
      "mytranspose successfully transposed\n",
      "      0\n",
      "0  <NA>\n",
      "to\n",
      "      0\n",
      "0  <NA>\n",
      "mytranspose successfully transposed\n",
      "   0\n",
      "0  1\n",
      "to\n",
      "   0\n",
      "0  1\n",
      "mytranspose successfully transposed\n",
      "      one   two  three\n",
      "100  True  True  False\n",
      "to\n",
      "         100\n",
      "one     True\n",
      "two     True\n",
      "three  False\n",
      "mytranspose successfully transposed\n",
      "        First Second\n",
      "numeric     1      2\n",
      "string      a      b\n",
      "bool     True  False\n",
      "to\n",
      "        numeric string   bool\n",
      "First         1      a   True\n",
      "Second        2      b  False\n",
      "dataframe transposing succeed\n"
     ]
    }
   ],
   "source": [
    "succeed_all = True\n",
    "for x, true_tp in zip([pd_dataset_1, pd_dataset_2, pd_dataset_3, pd_dataset_4, pd_dataset_5],[pd_transpose_1, pd_transpose_2, pd_transpose_3, pd_transpose_4, pd_transpose_5]):\n",
    "    succeed_all = succeed_all & pd_test_mytranspose(x, true_tp)\n",
    "if succeed_all:\n",
    "    print(\"dataframe transposing succeed\")"
   ],
   "metadata": {
    "collapsed": false,
    "ExecuteTime": {
     "start_time": "2023-04-06T14:55:05.711999Z",
     "end_time": "2023-04-06T14:55:05.721077Z"
    }
   }
  }
 ],
 "metadata": {
  "kernelspec": {
   "display_name": "Python 3",
   "language": "python",
   "name": "python3"
  },
  "language_info": {
   "codemirror_mode": {
    "name": "ipython",
    "version": 2
   },
   "file_extension": ".py",
   "mimetype": "text/x-python",
   "name": "python",
   "nbconvert_exporter": "python",
   "pygments_lexer": "ipython2",
   "version": "2.7.6"
  }
 },
 "nbformat": 4,
 "nbformat_minor": 0
}
